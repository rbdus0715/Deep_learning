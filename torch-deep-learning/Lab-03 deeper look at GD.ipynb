{
 "cells": [
  {
   "cell_type": "code",
   "execution_count": 2,
   "id": "a4fe8a71",
   "metadata": {},
   "outputs": [],
   "source": [
    "import torch\n",
    "from torch import optim"
   ]
  },
  {
   "cell_type": "markdown",
   "id": "67f7cc3e",
   "metadata": {},
   "source": [
    "# Cost function : MSE"
   ]
  },
  {
   "cell_type": "code",
   "execution_count": 3,
   "id": "48bba06d",
   "metadata": {},
   "outputs": [],
   "source": [
    "# 기울기 : gradient\n",
    "# gradient = 2*torch.mean((W*x_train-y_train)*x_train)\n",
    "# lr = 0.1\n",
    "# W -= lr*gradient"
   ]
  },
  {
   "cell_type": "code",
   "execution_count": 4,
   "id": "875d3a54",
   "metadata": {},
   "outputs": [],
   "source": [
    "# Epoch : 데이터로 학습한 횟수"
   ]
  },
  {
   "cell_type": "code",
   "execution_count": null,
   "id": "215840aa",
   "metadata": {},
   "outputs": [],
   "source": []
  },
  {
   "cell_type": "code",
   "execution_count": 22,
   "id": "751c9409",
   "metadata": {},
   "outputs": [
    {
     "name": "stdout",
     "output_type": "stream",
     "text": [
      "Epoch    1/10 W: 0.000, Cost: 4.405406\n",
      "Epoch    2/10 W: 0.933, Cost: 0.007441\n",
      "Epoch    3/10 W: 0.996, Cost: 0.003323\n",
      "Epoch    4/10 W: 1.000, Cost: 0.004333\n",
      "Epoch    5/10 W: 1.000, Cost: 0.004406\n",
      "Epoch    6/10 W: 1.000, Cost: 0.004411\n",
      "Epoch    7/10 W: 1.000, Cost: 0.004411\n",
      "Epoch    8/10 W: 1.000, Cost: 0.004411\n",
      "Epoch    9/10 W: 1.000, Cost: 0.004411\n",
      "Epoch   10/10 W: 1.000, Cost: 0.004411\n"
     ]
    }
   ],
   "source": [
    "# 데이터\n",
    "x_train = torch.FloatTensor([[1],[2],[3]])\n",
    "y_train = torch.FloatTensor([[1],[2],[3]])\n",
    "\n",
    "# 모델 초기화\n",
    "W = torch.zeros(1)\n",
    "\n",
    "# learning rate 설정\n",
    "lr = 0.1\n",
    "\n",
    "nb_epochs = 10\n",
    "for epoch in range(1, nb_epochs + 1): # 1~10\n",
    "    \n",
    "    # H(x) 계산\n",
    "    hypothesis = x_train*W+b\n",
    "    \n",
    "    # cost gradient 계산\n",
    "    cost = torch.mean((hypothesis - y_train)**2)  \n",
    "    gradient = 2*torch.mean((W*x_train-y_train)*x_train)\n",
    "    \n",
    "    print(\"Epoch {:4d}/{} W: {:.3f}, Cost: {:.6f}\".format(\n",
    "        epoch, nb_epochs, W.item(), cost.item() # tensor의 값만 불러옴\n",
    "    ))\n",
    "    \n",
    "    # cost gradient로 H(x) 계산\n",
    "    W -= lr*gradient"
   ]
  },
  {
   "cell_type": "markdown",
   "id": "bb258e74",
   "metadata": {},
   "source": [
    "# GD with torch.optim"
   ]
  },
  {
   "cell_type": "code",
   "execution_count": 23,
   "id": "7af63615",
   "metadata": {},
   "outputs": [],
   "source": [
    "# optimizer 설정 -> 파라미터 인자 : 학습 가능한 변수, learning rate\n",
    "optimizer = optim.SGD([W], lr=0.15)\n",
    "\n",
    "# cost로 H(x) 개선 -> 아래의 세줄로 GD를 수행함\n",
    "optimizer.zero_grad() \n",
    "# 1. optimizer에 저장되어있는 모든 학습 가능한 변수의 gradient를 전부 0으로 초기화\n",
    "cost.backward()\n",
    "# 2. cost function을 미분하여 각 변수들의 gradient를 구함\n",
    "optimizer.step()\n",
    "# 3. 저장된 gradient 값으로 GD를 실행함"
   ]
  },
  {
   "cell_type": "markdown",
   "id": "6ea93729",
   "metadata": {},
   "source": [
    "# torch.optim을 사용한 전체 코드"
   ]
  },
  {
   "cell_type": "code",
   "execution_count": 28,
   "id": "34ea294a",
   "metadata": {},
   "outputs": [
    {
     "name": "stdout",
     "output_type": "stream",
     "text": [
      "Epoch    0/10 W: 0.000, Cost: 4.666667\n",
      "Epoch    1/10 W: 1.400, Cost: 0.746667\n",
      "Epoch    2/10 W: 0.840, Cost: 0.119467\n",
      "Epoch    3/10 W: 1.064, Cost: 0.019115\n",
      "Epoch    4/10 W: 0.974, Cost: 0.003058\n",
      "Epoch    5/10 W: 1.010, Cost: 0.000489\n",
      "Epoch    6/10 W: 0.996, Cost: 0.000078\n",
      "Epoch    7/10 W: 1.002, Cost: 0.000013\n",
      "Epoch    8/10 W: 0.999, Cost: 0.000002\n",
      "Epoch    9/10 W: 1.000, Cost: 0.000000\n",
      "Epoch   10/10 W: 1.000, Cost: 0.000000\n"
     ]
    }
   ],
   "source": [
    "# 데이터\n",
    "x_train = torch.FloatTensor([[1],[2],[3]])\n",
    "y_train = torch.FloatTensor([[1],[2],[3]])\n",
    "\n",
    "# 모델 초기화\n",
    "W = torch.zeros(1, requires_grad=True) \n",
    "# (backward를 위해서 미분을 해야 하기 때문)\n",
    "\n",
    "# optimizer 설정\n",
    "optimizer = optim.SGD([W], lr=0.15)\n",
    "\n",
    "nb_epochs = 10\n",
    "\n",
    "for epoch in range(nb_epochs + 1): # 1~10\n",
    "    \n",
    "    # H(x) 계산\n",
    "    hypothesis = x_train*W\n",
    "    \n",
    "    # cost 계산\n",
    "    cost = torch.mean((hypothesis - y_train)**2)  \n",
    "    \n",
    "    print(\"Epoch {:4d}/{} W: {:.3f}, Cost: {:.6f}\".format(\n",
    "        epoch, nb_epochs, W.item(), cost.item()\n",
    "    ))\n",
    "    \n",
    "    # cost로 H(x) 계산\n",
    "    optimizer.zero_grad()\n",
    "    cost.backward()\n",
    "    optimizer.step()"
   ]
  },
  {
   "cell_type": "code",
   "execution_count": null,
   "id": "3a6ee990",
   "metadata": {},
   "outputs": [],
   "source": []
  }
 ],
 "metadata": {
  "kernelspec": {
   "display_name": "Python 3 (ipykernel)",
   "language": "python",
   "name": "python3"
  },
  "language_info": {
   "codemirror_mode": {
    "name": "ipython",
    "version": 3
   },
   "file_extension": ".py",
   "mimetype": "text/x-python",
   "name": "python",
   "nbconvert_exporter": "python",
   "pygments_lexer": "ipython3",
   "version": "3.9.12"
  }
 },
 "nbformat": 4,
 "nbformat_minor": 5
}
