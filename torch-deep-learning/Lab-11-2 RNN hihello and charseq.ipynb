{
 "cells": [
  {
   "cell_type": "markdown",
   "id": "d7e5a6d0",
   "metadata": {},
   "source": [
    "# hihello"
   ]
  },
  {
   "cell_type": "code",
   "execution_count": 7,
   "id": "74041012",
   "metadata": {},
   "outputs": [],
   "source": [
    "import torch\n",
    "import torch.optim as optim\n",
    "import numpy as np"
   ]
  },
  {
   "cell_type": "code",
   "execution_count": 8,
   "id": "688863d4",
   "metadata": {},
   "outputs": [
    {
     "data": {
      "text/plain": [
       "<torch._C.Generator at 0x7ff3b96add30>"
      ]
     },
     "execution_count": 8,
     "metadata": {},
     "output_type": "execute_result"
    }
   ],
   "source": [
    "torch.manual_seed(0)"
   ]
  },
  {
   "cell_type": "code",
   "execution_count": 9,
   "id": "86c559a5",
   "metadata": {},
   "outputs": [],
   "source": [
    "char_set = ['h', 'i', 'e', 'l', 'o']"
   ]
  },
  {
   "cell_type": "code",
   "execution_count": 10,
   "id": "934d47db",
   "metadata": {},
   "outputs": [],
   "source": [
    "input_size = len(char_set)\n",
    "hidden_size = len(char_set)\n",
    "learning_rate = 0.1"
   ]
  },
  {
   "cell_type": "code",
   "execution_count": 11,
   "id": "95f0740f",
   "metadata": {},
   "outputs": [],
   "source": [
    "x_data = [[0, 1, 0, 2, 3, 3]]\n",
    "x_one_hot = [[[1, 0, 0, 0, 0], # hihello\n",
    "              [0, 1, 0, 0, 0],\n",
    "              [1, 0, 0, 0, 0],\n",
    "              [0, 0, 1, 0, 0],\n",
    "              [0, 0, 0, 1, 0],\n",
    "              [0, 0, 0, 1, 0]]]\n",
    "y_data = [[1, 0, 2, 3, 3, 4]]\n",
    "\n",
    "X = torch.FloatTensor(x_one_hot)\n",
    "Y = torch.LongTensor(y_data)"
   ]
  },
  {
   "cell_type": "code",
   "execution_count": 19,
   "id": "2b2783be",
   "metadata": {},
   "outputs": [],
   "source": [
    "rnn = torch.nn.RNN(input_size, hidden_size, batch_first=True)"
   ]
  },
  {
   "cell_type": "code",
   "execution_count": 23,
   "id": "7cbee7e0",
   "metadata": {},
   "outputs": [],
   "source": [
    "outputs, _status = rnn(X)"
   ]
  },
  {
   "cell_type": "code",
   "execution_count": 26,
   "id": "4867f13e",
   "metadata": {},
   "outputs": [
    {
     "name": "stdout",
     "output_type": "stream",
     "text": [
      "tensor([[[ 0.6920, -0.4614,  0.1086,  0.4411, -0.3287],\n",
      "         [ 0.4054, -0.4158, -0.1464,  0.3113, -0.4873],\n",
      "         [ 0.6276, -0.4930, -0.0715,  0.4201, -0.3712],\n",
      "         [ 0.2059, -0.4689, -0.4159,  0.3475, -0.3855],\n",
      "         [ 0.6396, -0.2635,  0.1432,  0.6000, -0.7159],\n",
      "         [ 0.6547, -0.5353, -0.1442,  0.3266, -0.7333]]],\n",
      "       grad_fn=<TransposeBackward1>)\n",
      "torch.Size([1, 6, 5])\n"
     ]
    }
   ],
   "source": [
    "print(outputs)\n",
    "print(outputs.shape)"
   ]
  },
  {
   "cell_type": "code",
   "execution_count": 13,
   "id": "ec571c38",
   "metadata": {},
   "outputs": [],
   "source": [
    "criterion = torch.nn.CrossEntropyLoss()\n",
    "optimizer = optim.Adam(rnn.parameters(), learning_rate)"
   ]
  },
  {
   "cell_type": "code",
   "execution_count": 9,
   "id": "6b5a7be1",
   "metadata": {
    "scrolled": true
   },
   "outputs": [
    {
     "name": "stdout",
     "output_type": "stream",
     "text": [
      "0 loss:  1.7802647352218628 prediction:  [[1 1 1 1 1 1]] true Y:  [[1, 0, 2, 3, 3, 4]] prediction str:  iiiiii\n",
      "1 loss:  1.4931949377059937 prediction:  [[1 4 1 1 4 4]] true Y:  [[1, 0, 2, 3, 3, 4]] prediction str:  ioiioo\n",
      "2 loss:  1.33371102809906 prediction:  [[1 3 2 3 1 4]] true Y:  [[1, 0, 2, 3, 3, 4]] prediction str:  ilelio\n",
      "3 loss:  1.2152944803237915 prediction:  [[2 3 2 3 3 3]] true Y:  [[1, 0, 2, 3, 3, 4]] prediction str:  elelll\n",
      "4 loss:  1.1131387948989868 prediction:  [[2 3 2 3 3 3]] true Y:  [[1, 0, 2, 3, 3, 4]] prediction str:  elelll\n",
      "5 loss:  1.0241864919662476 prediction:  [[2 3 2 3 3 4]] true Y:  [[1, 0, 2, 3, 3, 4]] prediction str:  elello\n",
      "6 loss:  0.9573140740394592 prediction:  [[2 3 2 3 3 4]] true Y:  [[1, 0, 2, 3, 3, 4]] prediction str:  elello\n",
      "7 loss:  0.9102001190185547 prediction:  [[2 0 2 3 3 4]] true Y:  [[1, 0, 2, 3, 3, 4]] prediction str:  ehello\n",
      "8 loss:  0.8731765151023865 prediction:  [[1 0 2 3 3 4]] true Y:  [[1, 0, 2, 3, 3, 4]] prediction str:  ihello\n",
      "9 loss:  0.8399617671966553 prediction:  [[1 0 2 3 3 4]] true Y:  [[1, 0, 2, 3, 3, 4]] prediction str:  ihello\n",
      "10 loss:  0.8088943958282471 prediction:  [[1 0 2 3 3 4]] true Y:  [[1, 0, 2, 3, 3, 4]] prediction str:  ihello\n",
      "11 loss:  0.7812859416007996 prediction:  [[1 0 2 3 3 4]] true Y:  [[1, 0, 2, 3, 3, 4]] prediction str:  ihello\n",
      "12 loss:  0.7585341930389404 prediction:  [[1 3 2 3 3 4]] true Y:  [[1, 0, 2, 3, 3, 4]] prediction str:  ilello\n",
      "13 loss:  0.740128755569458 prediction:  [[1 3 2 3 3 4]] true Y:  [[1, 0, 2, 3, 3, 4]] prediction str:  ilello\n",
      "14 loss:  0.7243585586547852 prediction:  [[1 3 2 3 3 4]] true Y:  [[1, 0, 2, 3, 3, 4]] prediction str:  ilello\n",
      "15 loss:  0.709122359752655 prediction:  [[1 3 2 3 3 4]] true Y:  [[1, 0, 2, 3, 3, 4]] prediction str:  ilello\n",
      "16 loss:  0.6929271817207336 prediction:  [[1 3 2 3 3 4]] true Y:  [[1, 0, 2, 3, 3, 4]] prediction str:  ilello\n",
      "17 loss:  0.6821203231811523 prediction:  [[1 3 2 3 3 4]] true Y:  [[1, 0, 2, 3, 3, 4]] prediction str:  ilello\n",
      "18 loss:  0.673527717590332 prediction:  [[1 3 2 3 3 4]] true Y:  [[1, 0, 2, 3, 3, 4]] prediction str:  ilello\n",
      "19 loss:  0.6595445275306702 prediction:  [[1 3 2 3 3 4]] true Y:  [[1, 0, 2, 3, 3, 4]] prediction str:  ilello\n",
      "20 loss:  0.6534827947616577 prediction:  [[1 3 2 3 3 4]] true Y:  [[1, 0, 2, 3, 3, 4]] prediction str:  ilello\n",
      "21 loss:  0.6465460658073425 prediction:  [[1 3 2 3 3 4]] true Y:  [[1, 0, 2, 3, 3, 4]] prediction str:  ilello\n",
      "22 loss:  0.639818549156189 prediction:  [[1 3 2 3 3 4]] true Y:  [[1, 0, 2, 3, 3, 4]] prediction str:  ilello\n",
      "23 loss:  0.6381520628929138 prediction:  [[1 3 2 3 3 4]] true Y:  [[1, 0, 2, 3, 3, 4]] prediction str:  ilello\n",
      "24 loss:  0.6326725482940674 prediction:  [[1 3 2 3 3 4]] true Y:  [[1, 0, 2, 3, 3, 4]] prediction str:  ilello\n",
      "25 loss:  0.6256729960441589 prediction:  [[1 3 2 3 3 4]] true Y:  [[1, 0, 2, 3, 3, 4]] prediction str:  ilello\n",
      "26 loss:  0.6215081810951233 prediction:  [[1 3 2 3 3 4]] true Y:  [[1, 0, 2, 3, 3, 4]] prediction str:  ilello\n",
      "27 loss:  0.6167057156562805 prediction:  [[1 3 2 3 3 4]] true Y:  [[1, 0, 2, 3, 3, 4]] prediction str:  ilello\n",
      "28 loss:  0.609936535358429 prediction:  [[1 3 2 3 3 4]] true Y:  [[1, 0, 2, 3, 3, 4]] prediction str:  ilello\n",
      "29 loss:  0.6030199527740479 prediction:  [[1 3 2 3 3 4]] true Y:  [[1, 0, 2, 3, 3, 4]] prediction str:  ilello\n",
      "30 loss:  0.5992398858070374 prediction:  [[1 3 2 3 3 4]] true Y:  [[1, 0, 2, 3, 3, 4]] prediction str:  ilello\n",
      "31 loss:  0.5964338779449463 prediction:  [[1 3 2 3 3 4]] true Y:  [[1, 0, 2, 3, 3, 4]] prediction str:  ilello\n",
      "32 loss:  0.5916648507118225 prediction:  [[1 3 2 3 3 4]] true Y:  [[1, 0, 2, 3, 3, 4]] prediction str:  ilello\n",
      "33 loss:  0.5881564617156982 prediction:  [[1 3 2 3 3 4]] true Y:  [[1, 0, 2, 3, 3, 4]] prediction str:  ilello\n",
      "34 loss:  0.585434079170227 prediction:  [[1 3 2 3 3 4]] true Y:  [[1, 0, 2, 3, 3, 4]] prediction str:  ilello\n",
      "35 loss:  0.581319272518158 prediction:  [[1 3 2 3 3 4]] true Y:  [[1, 0, 2, 3, 3, 4]] prediction str:  ilello\n",
      "36 loss:  0.5761869549751282 prediction:  [[1 3 2 3 3 4]] true Y:  [[1, 0, 2, 3, 3, 4]] prediction str:  ilello\n",
      "37 loss:  0.5734921097755432 prediction:  [[1 3 2 3 3 4]] true Y:  [[1, 0, 2, 3, 3, 4]] prediction str:  ilello\n",
      "38 loss:  0.5727558732032776 prediction:  [[1 3 2 3 3 4]] true Y:  [[1, 0, 2, 3, 3, 4]] prediction str:  ilello\n",
      "39 loss:  0.5682087540626526 prediction:  [[1 3 2 3 3 4]] true Y:  [[1, 0, 2, 3, 3, 4]] prediction str:  ilello\n",
      "40 loss:  0.5656265020370483 prediction:  [[1 3 2 3 3 4]] true Y:  [[1, 0, 2, 3, 3, 4]] prediction str:  ilello\n",
      "41 loss:  0.5647333264350891 prediction:  [[1 3 2 3 3 4]] true Y:  [[1, 0, 2, 3, 3, 4]] prediction str:  ilello\n",
      "42 loss:  0.5629469752311707 prediction:  [[1 3 2 3 3 4]] true Y:  [[1, 0, 2, 3, 3, 4]] prediction str:  ilello\n",
      "43 loss:  0.560376763343811 prediction:  [[1 3 2 3 3 4]] true Y:  [[1, 0, 2, 3, 3, 4]] prediction str:  ilello\n",
      "44 loss:  0.5588171482086182 prediction:  [[1 3 2 3 3 4]] true Y:  [[1, 0, 2, 3, 3, 4]] prediction str:  ilello\n",
      "45 loss:  0.5584633946418762 prediction:  [[1 3 2 3 3 4]] true Y:  [[1, 0, 2, 3, 3, 4]] prediction str:  ilello\n",
      "46 loss:  0.5565399527549744 prediction:  [[1 3 2 3 3 4]] true Y:  [[1, 0, 2, 3, 3, 4]] prediction str:  ilello\n",
      "47 loss:  0.5548030734062195 prediction:  [[1 3 2 3 3 4]] true Y:  [[1, 0, 2, 3, 3, 4]] prediction str:  ilello\n",
      "48 loss:  0.5542734265327454 prediction:  [[1 3 2 3 3 4]] true Y:  [[1, 0, 2, 3, 3, 4]] prediction str:  ilello\n",
      "49 loss:  0.5534440279006958 prediction:  [[1 3 2 3 3 4]] true Y:  [[1, 0, 2, 3, 3, 4]] prediction str:  ilello\n",
      "50 loss:  0.552009642124176 prediction:  [[1 3 2 3 3 4]] true Y:  [[1, 0, 2, 3, 3, 4]] prediction str:  ilello\n",
      "51 loss:  0.5510938763618469 prediction:  [[1 3 2 3 3 4]] true Y:  [[1, 0, 2, 3, 3, 4]] prediction str:  ilello\n",
      "52 loss:  0.5506716370582581 prediction:  [[1 3 2 3 3 4]] true Y:  [[1, 0, 2, 3, 3, 4]] prediction str:  ilello\n",
      "53 loss:  0.5493642687797546 prediction:  [[1 3 2 3 3 4]] true Y:  [[1, 0, 2, 3, 3, 4]] prediction str:  ilello\n",
      "54 loss:  0.5483370423316956 prediction:  [[1 3 2 3 3 4]] true Y:  [[1, 0, 2, 3, 3, 4]] prediction str:  ilello\n",
      "55 loss:  0.5478050708770752 prediction:  [[1 3 2 3 3 4]] true Y:  [[1, 0, 2, 3, 3, 4]] prediction str:  ilello\n",
      "56 loss:  0.5469383597373962 prediction:  [[1 3 2 3 3 4]] true Y:  [[1, 0, 2, 3, 3, 4]] prediction str:  ilello\n",
      "57 loss:  0.5459226965904236 prediction:  [[1 3 2 3 3 4]] true Y:  [[1, 0, 2, 3, 3, 4]] prediction str:  ilello\n",
      "58 loss:  0.5454025864601135 prediction:  [[1 3 2 3 3 4]] true Y:  [[1, 0, 2, 3, 3, 4]] prediction str:  ilello\n",
      "59 loss:  0.5448522567749023 prediction:  [[1 3 2 3 3 4]] true Y:  [[1, 0, 2, 3, 3, 4]] prediction str:  ilello\n",
      "60 loss:  0.543980598449707 prediction:  [[1 3 2 3 3 4]] true Y:  [[1, 0, 2, 3, 3, 4]] prediction str:  ilello\n",
      "61 loss:  0.5434583425521851 prediction:  [[1 3 2 3 3 4]] true Y:  [[1, 0, 2, 3, 3, 4]] prediction str:  ilello\n",
      "62 loss:  0.5429834723472595 prediction:  [[1 3 2 3 3 4]] true Y:  [[1, 0, 2, 3, 3, 4]] prediction str:  ilello\n",
      "63 loss:  0.5422742962837219 prediction:  [[1 3 2 3 3 4]] true Y:  [[1, 0, 2, 3, 3, 4]] prediction str:  ilello\n",
      "64 loss:  0.5417041182518005 prediction:  [[1 3 2 3 3 4]] true Y:  [[1, 0, 2, 3, 3, 4]] prediction str:  ilello\n",
      "65 loss:  0.5413309335708618 prediction:  [[1 3 2 3 3 4]] true Y:  [[1, 0, 2, 3, 3, 4]] prediction str:  ilello\n",
      "66 loss:  0.5407488942146301 prediction:  [[1 3 2 3 3 4]] true Y:  [[1, 0, 2, 3, 3, 4]] prediction str:  ilello\n",
      "67 loss:  0.5402577519416809 prediction:  [[1 3 2 3 3 4]] true Y:  [[1, 0, 2, 3, 3, 4]] prediction str:  ilello\n",
      "68 loss:  0.5399190783500671 prediction:  [[1 3 2 3 3 4]] true Y:  [[1, 0, 2, 3, 3, 4]] prediction str:  ilello\n",
      "69 loss:  0.5394624471664429 prediction:  [[1 3 2 3 3 4]] true Y:  [[1, 0, 2, 3, 3, 4]] prediction str:  ilello\n",
      "70 loss:  0.539009153842926 prediction:  [[1 3 2 3 3 4]] true Y:  [[1, 0, 2, 3, 3, 4]] prediction str:  ilello\n",
      "71 loss:  0.5387027859687805 prediction:  [[1 3 2 3 3 4]] true Y:  [[1, 0, 2, 3, 3, 4]] prediction str:  ilello\n",
      "72 loss:  0.5383160710334778 prediction:  [[1 3 2 3 3 4]] true Y:  [[1, 0, 2, 3, 3, 4]] prediction str:  ilello\n",
      "73 loss:  0.5379176735877991 prediction:  [[1 3 2 3 3 4]] true Y:  [[1, 0, 2, 3, 3, 4]] prediction str:  ilello\n",
      "74 loss:  0.5376289486885071 prediction:  [[1 3 2 3 3 4]] true Y:  [[1, 0, 2, 3, 3, 4]] prediction str:  ilello\n",
      "75 loss:  0.5372946858406067 prediction:  [[1 3 2 3 3 4]] true Y:  [[1, 0, 2, 3, 3, 4]] prediction str:  ilello\n",
      "76 loss:  0.5369362831115723 prediction:  [[1 3 2 3 3 4]] true Y:  [[1, 0, 2, 3, 3, 4]] prediction str:  ilello\n",
      "77 loss:  0.5366637706756592 prediction:  [[1 3 2 3 3 4]] true Y:  [[1, 0, 2, 3, 3, 4]] prediction str:  ilello\n",
      "78 loss:  0.5363660454750061 prediction:  [[1 3 2 3 3 4]] true Y:  [[1, 0, 2, 3, 3, 4]] prediction str:  ilello\n",
      "79 loss:  0.5360466837882996 prediction:  [[1 3 2 3 3 4]] true Y:  [[1, 0, 2, 3, 3, 4]] prediction str:  ilello\n",
      "80 loss:  0.535793125629425 prediction:  [[1 3 2 3 3 4]] true Y:  [[1, 0, 2, 3, 3, 4]] prediction str:  ilello\n",
      "81 loss:  0.5355224013328552 prediction:  [[1 3 2 3 3 4]] true Y:  [[1, 0, 2, 3, 3, 4]] prediction str:  ilello\n",
      "82 loss:  0.5352356433868408 prediction:  [[1 3 2 3 3 4]] true Y:  [[1, 0, 2, 3, 3, 4]] prediction str:  ilello\n",
      "83 loss:  0.5349993109703064 prediction:  [[1 3 2 3 3 4]] true Y:  [[1, 0, 2, 3, 3, 4]] prediction str:  ilello\n",
      "84 loss:  0.5347511172294617 prediction:  [[1 3 2 3 3 4]] true Y:  [[1, 0, 2, 3, 3, 4]] prediction str:  ilello\n",
      "85 loss:  0.5344937443733215 prediction:  [[1 3 2 3 3 4]] true Y:  [[1, 0, 2, 3, 3, 4]] prediction str:  ilello\n",
      "86 loss:  0.534275472164154 prediction:  [[1 3 2 3 3 4]] true Y:  [[1, 0, 2, 3, 3, 4]] prediction str:  ilello\n",
      "87 loss:  0.5340465307235718 prediction:  [[1 3 2 3 3 4]] true Y:  [[1, 0, 2, 3, 3, 4]] prediction str:  ilello\n",
      "88 loss:  0.5338149666786194 prediction:  [[1 3 2 3 3 4]] true Y:  [[1, 0, 2, 3, 3, 4]] prediction str:  ilello\n",
      "89 loss:  0.5336135625839233 prediction:  [[1 3 2 3 3 4]] true Y:  [[1, 0, 2, 3, 3, 4]] prediction str:  ilello\n",
      "90 loss:  0.5334024429321289 prediction:  [[1 3 2 3 3 4]] true Y:  [[1, 0, 2, 3, 3, 4]] prediction str:  ilello\n",
      "91 loss:  0.5331950783729553 prediction:  [[1 3 2 3 3 4]] true Y:  [[1, 0, 2, 3, 3, 4]] prediction str:  ilello\n",
      "92 loss:  0.5330094695091248 prediction:  [[1 3 2 3 3 4]] true Y:  [[1, 0, 2, 3, 3, 4]] prediction str:  ilello\n",
      "93 loss:  0.5328157544136047 prediction:  [[1 3 2 3 3 4]] true Y:  [[1, 0, 2, 3, 3, 4]] prediction str:  ilello\n",
      "94 loss:  0.5326293110847473 prediction:  [[1 3 2 3 3 4]] true Y:  [[1, 0, 2, 3, 3, 4]] prediction str:  ilello\n",
      "95 loss:  0.5324582457542419 prediction:  [[1 3 2 3 3 4]] true Y:  [[1, 0, 2, 3, 3, 4]] prediction str:  ilello\n",
      "96 loss:  0.5322802662849426 prediction:  [[1 3 2 3 3 4]] true Y:  [[1, 0, 2, 3, 3, 4]] prediction str:  ilello\n",
      "97 loss:  0.5321123600006104 prediction:  [[1 3 2 3 3 4]] true Y:  [[1, 0, 2, 3, 3, 4]] prediction str:  ilello\n",
      "98 loss:  0.5319532752037048 prediction:  [[1 3 2 3 3 4]] true Y:  [[1, 0, 2, 3, 3, 4]] prediction str:  ilello\n",
      "99 loss:  0.5317898988723755 prediction:  [[1 3 2 3 3 4]] true Y:  [[1, 0, 2, 3, 3, 4]] prediction str:  ilello\n"
     ]
    }
   ],
   "source": [
    "for i in range(100):\n",
    "    optimizer.zero_grad()\n",
    "    outputs, _status = rnn(X)\n",
    "    # loss = criterion(모델의 예측값, 정답 값)\n",
    "    loss = criterion(outputs.view(-1, input_size), Y.view(-1))\n",
    "    loss.backward()\n",
    "    optimizer.step()\n",
    " \n",
    "    result = outputs.data.numpy().argmax(axis=2)\n",
    "    result_str = ''.join([char_set[c] for c in np.squeeze(result)])\n",
    "    print(i, \"loss: \", loss.item(), \"prediction: \", result, \"true Y: \", y_data, \"prediction str: \", result_str)"
   ]
  },
  {
   "cell_type": "markdown",
   "id": "857214a1",
   "metadata": {},
   "source": [
    "# charseq"
   ]
  },
  {
   "cell_type": "code",
   "execution_count": 10,
   "id": "6c2f00fb",
   "metadata": {},
   "outputs": [],
   "source": [
    "sample = \" if you want you\""
   ]
  },
  {
   "cell_type": "code",
   "execution_count": 11,
   "id": "1c63ecbf",
   "metadata": {},
   "outputs": [
    {
     "name": "stdout",
     "output_type": "stream",
     "text": [
      "{'f': 0, 'i': 1, 'w': 2, 'o': 3, 'a': 4, 't': 5, 'n': 6, 'u': 7, 'y': 8, ' ': 9}\n"
     ]
    }
   ],
   "source": [
    "char_set = list(set(sample))\n",
    "char_dic = {c: i for i, c in enumerate(char_set)}\n",
    "print(char_dic)"
   ]
  },
  {
   "cell_type": "code",
   "execution_count": 12,
   "id": "d9388d1b",
   "metadata": {},
   "outputs": [],
   "source": [
    "dic_size = len(char_dic)\n",
    "hidden_size = len(char_dic)\n",
    "learning_rate = 0.1"
   ]
  },
  {
   "cell_type": "code",
   "execution_count": 13,
   "id": "55cb5029",
   "metadata": {},
   "outputs": [],
   "source": [
    "sample_idx = [char_dic[c] for c in sample]\n",
    "x_data = [sample_idx[:-1]]\n",
    "x_one_hot = [np.eye(dic_size)[x] for x in x_data]\n",
    "y_data = [sample_idx[1:]]\n",
    "\n",
    "X = torch.FloatTensor(x_one_hot)\n",
    "Y = torch.LongTensor(y_data)"
   ]
  },
  {
   "cell_type": "code",
   "execution_count": 14,
   "id": "526b0482",
   "metadata": {},
   "outputs": [],
   "source": [
    "rnn = torch.nn.RNN(dic_size, hidden_size, batch_first=True)"
   ]
  },
  {
   "cell_type": "code",
   "execution_count": 15,
   "id": "3b2afb20",
   "metadata": {},
   "outputs": [],
   "source": [
    "criterion = torch.nn.CrossEntropyLoss()\n",
    "optimizer = optim.Adam(rnn.parameters(), learning_rate)"
   ]
  },
  {
   "cell_type": "code",
   "execution_count": 16,
   "id": "edf0ae94",
   "metadata": {
    "scrolled": true
   },
   "outputs": [
    {
     "name": "stdout",
     "output_type": "stream",
     "text": [
      "0 loss:  2.4290757179260254 prediction:  [[3 3 8 8 3 3 3 3 3 7 3 8 9 3 3]] true Y:  [[1, 0, 9, 8, 3, 7, 9, 2, 4, 6, 5, 9, 8, 3, 7]] prediction str:  ooyyooooouoy oo\n",
      "1 loss:  2.1678578853607178 prediction:  [[7 3 3 7 9 3 3 9 3 9 9 3 7 3 9]] true Y:  [[1, 0, 9, 8, 3, 7, 9, 2, 4, 6, 5, 9, 8, 3, 7]] prediction str:  uoou oo o  ouo \n",
      "2 loss:  1.991803526878357 prediction:  [[7 3 3 9 9 9 9 9 9 9 9 9 9 9 9]] true Y:  [[1, 0, 9, 8, 3, 7, 9, 2, 4, 6, 5, 9, 8, 3, 7]] prediction str:  uoo            \n",
      "3 loss:  1.796998143196106 prediction:  [[7 3 3 9 9 7 9 9 9 9 9 9 7 9 7]] true Y:  [[1, 0, 9, 8, 3, 7, 9, 2, 4, 6, 5, 9, 8, 3, 7]] prediction str:  uoo  u      u u\n",
      "4 loss:  1.6479716300964355 prediction:  [[7 3 3 8 3 7 9 7 9 6 9 9 7 3 7]] true Y:  [[1, 0, 9, 8, 3, 7, 9, 2, 4, 6, 5, 9, 8, 3, 7]] prediction str:  uooyou u n  uou\n",
      "5 loss:  1.548573613166809 prediction:  [[7 3 3 8 3 7 9 2 1 6 5 9 7 3 7]] true Y:  [[1, 0, 9, 8, 3, 7, 9, 2, 4, 6, 5, 9, 8, 3, 7]] prediction str:  uooyou wint uou\n",
      "6 loss:  1.4740763902664185 prediction:  [[1 0 3 8 3 7 9 2 5 6 5 9 8 3 7]] true Y:  [[1, 0, 9, 8, 3, 7, 9, 2, 4, 6, 5, 9, 8, 3, 7]] prediction str:  ifoyou wtnt you\n",
      "7 loss:  1.4071621894836426 prediction:  [[1 0 9 8 3 7 9 2 5 6 5 9 8 3 7]] true Y:  [[1, 0, 9, 8, 3, 7, 9, 2, 4, 6, 5, 9, 8, 3, 7]] prediction str:  if you wtnt you\n",
      "8 loss:  1.3488560914993286 prediction:  [[1 0 9 8 3 7 9 2 5 6 5 9 8 3 7]] true Y:  [[1, 0, 9, 8, 3, 7, 9, 2, 4, 6, 5, 9, 8, 3, 7]] prediction str:  if you wtnt you\n",
      "9 loss:  1.2964078187942505 prediction:  [[1 0 9 8 3 7 9 2 5 6 5 9 8 3 7]] true Y:  [[1, 0, 9, 8, 3, 7, 9, 2, 4, 6, 5, 9, 8, 3, 7]] prediction str:  if you wtnt you\n",
      "10 loss:  1.2441470623016357 prediction:  [[1 0 9 8 3 7 9 2 5 6 5 9 8 3 7]] true Y:  [[1, 0, 9, 8, 3, 7, 9, 2, 4, 6, 5, 9, 8, 3, 7]] prediction str:  if you wtnt you\n",
      "11 loss:  1.2146563529968262 prediction:  [[1 0 9 8 3 7 9 2 5 6 5 9 8 3 7]] true Y:  [[1, 0, 9, 8, 3, 7, 9, 2, 4, 6, 5, 9, 8, 3, 7]] prediction str:  if you wtnt you\n",
      "12 loss:  1.1893806457519531 prediction:  [[1 0 9 8 3 7 9 2 5 6 5 9 8 9 7]] true Y:  [[1, 0, 9, 8, 3, 7, 9, 2, 4, 6, 5, 9, 8, 3, 7]] prediction str:  if you wtnt y u\n",
      "13 loss:  1.139461636543274 prediction:  [[1 0 9 8 3 7 9 2 5 6 5 9 8 9 7]] true Y:  [[1, 0, 9, 8, 3, 7, 9, 2, 4, 6, 5, 9, 8, 3, 7]] prediction str:  if you wtnt y u\n",
      "14 loss:  1.1081992387771606 prediction:  [[1 0 9 8 3 7 9 2 4 6 5 9 8 3 7]] true Y:  [[1, 0, 9, 8, 3, 7, 9, 2, 4, 6, 5, 9, 8, 3, 7]] prediction str:  if you want you\n",
      "15 loss:  1.0816066265106201 prediction:  [[1 0 9 8 3 7 9 2 4 6 5 9 8 3 7]] true Y:  [[1, 0, 9, 8, 3, 7, 9, 2, 4, 6, 5, 9, 8, 3, 7]] prediction str:  if you want you\n",
      "16 loss:  1.0594472885131836 prediction:  [[1 0 9 8 3 7 9 2 4 6 5 9 8 3 7]] true Y:  [[1, 0, 9, 8, 3, 7, 9, 2, 4, 6, 5, 9, 8, 3, 7]] prediction str:  if you want you\n",
      "17 loss:  1.030928373336792 prediction:  [[1 0 9 8 3 7 9 2 4 6 5 9 8 3 7]] true Y:  [[1, 0, 9, 8, 3, 7, 9, 2, 4, 6, 5, 9, 8, 3, 7]] prediction str:  if you want you\n",
      "18 loss:  1.010297179222107 prediction:  [[1 0 9 8 3 7 9 2 4 6 5 9 8 3 7]] true Y:  [[1, 0, 9, 8, 3, 7, 9, 2, 4, 6, 5, 9, 8, 3, 7]] prediction str:  if you want you\n",
      "19 loss:  0.9908899664878845 prediction:  [[1 0 9 8 3 7 9 2 4 6 5 9 8 3 7]] true Y:  [[1, 0, 9, 8, 3, 7, 9, 2, 4, 6, 5, 9, 8, 3, 7]] prediction str:  if you want you\n",
      "20 loss:  0.9713935256004333 prediction:  [[1 0 9 8 3 7 9 2 4 6 5 9 8 3 7]] true Y:  [[1, 0, 9, 8, 3, 7, 9, 2, 4, 6, 5, 9, 8, 3, 7]] prediction str:  if you want you\n",
      "21 loss:  0.9566863179206848 prediction:  [[1 0 9 8 3 7 9 2 4 6 5 9 8 3 7]] true Y:  [[1, 0, 9, 8, 3, 7, 9, 2, 4, 6, 5, 9, 8, 3, 7]] prediction str:  if you want you\n",
      "22 loss:  0.9357076287269592 prediction:  [[1 0 9 8 3 7 9 2 4 6 5 9 8 3 7]] true Y:  [[1, 0, 9, 8, 3, 7, 9, 2, 4, 6, 5, 9, 8, 3, 7]] prediction str:  if you want you\n",
      "23 loss:  0.9209732413291931 prediction:  [[1 0 9 8 3 7 9 2 4 6 5 9 8 3 7]] true Y:  [[1, 0, 9, 8, 3, 7, 9, 2, 4, 6, 5, 9, 8, 3, 7]] prediction str:  if you want you\n",
      "24 loss:  0.9115212559700012 prediction:  [[1 0 9 8 3 7 9 2 4 6 5 9 8 3 7]] true Y:  [[1, 0, 9, 8, 3, 7, 9, 2, 4, 6, 5, 9, 8, 3, 7]] prediction str:  if you want you\n",
      "25 loss:  0.9001554846763611 prediction:  [[1 0 9 8 3 7 9 2 4 6 5 9 8 3 7]] true Y:  [[1, 0, 9, 8, 3, 7, 9, 2, 4, 6, 5, 9, 8, 3, 7]] prediction str:  if you want you\n",
      "26 loss:  0.8929994106292725 prediction:  [[1 0 9 8 3 7 9 2 4 6 5 9 8 3 7]] true Y:  [[1, 0, 9, 8, 3, 7, 9, 2, 4, 6, 5, 9, 8, 3, 7]] prediction str:  if you want you\n",
      "27 loss:  0.8864871859550476 prediction:  [[1 0 9 8 3 7 9 2 4 6 5 9 8 3 7]] true Y:  [[1, 0, 9, 8, 3, 7, 9, 2, 4, 6, 5, 9, 8, 3, 7]] prediction str:  if you want you\n",
      "28 loss:  0.8788534998893738 prediction:  [[1 0 9 8 3 7 9 2 4 6 5 9 8 3 7]] true Y:  [[1, 0, 9, 8, 3, 7, 9, 2, 4, 6, 5, 9, 8, 3, 7]] prediction str:  if you want you\n",
      "29 loss:  0.8730301260948181 prediction:  [[1 0 9 8 3 7 9 2 4 6 5 9 8 3 7]] true Y:  [[1, 0, 9, 8, 3, 7, 9, 2, 4, 6, 5, 9, 8, 3, 7]] prediction str:  if you want you\n",
      "30 loss:  0.8697715401649475 prediction:  [[1 0 9 8 3 7 9 2 4 6 5 9 8 3 7]] true Y:  [[1, 0, 9, 8, 3, 7, 9, 2, 4, 6, 5, 9, 8, 3, 7]] prediction str:  if you want you\n",
      "31 loss:  0.8637514710426331 prediction:  [[1 0 9 8 3 7 9 2 4 6 5 9 8 3 7]] true Y:  [[1, 0, 9, 8, 3, 7, 9, 2, 4, 6, 5, 9, 8, 3, 7]] prediction str:  if you want you\n",
      "32 loss:  0.8591048717498779 prediction:  [[1 0 9 8 3 7 9 2 4 6 5 9 8 3 7]] true Y:  [[1, 0, 9, 8, 3, 7, 9, 2, 4, 6, 5, 9, 8, 3, 7]] prediction str:  if you want you\n",
      "33 loss:  0.8558767437934875 prediction:  [[1 0 9 8 3 7 9 2 4 6 5 9 8 3 7]] true Y:  [[1, 0, 9, 8, 3, 7, 9, 2, 4, 6, 5, 9, 8, 3, 7]] prediction str:  if you want you\n",
      "34 loss:  0.852462112903595 prediction:  [[1 0 9 8 3 7 9 2 4 6 5 9 8 3 7]] true Y:  [[1, 0, 9, 8, 3, 7, 9, 2, 4, 6, 5, 9, 8, 3, 7]] prediction str:  if you want you\n",
      "35 loss:  0.8489277362823486 prediction:  [[1 0 9 8 3 7 9 2 4 6 5 9 8 3 7]] true Y:  [[1, 0, 9, 8, 3, 7, 9, 2, 4, 6, 5, 9, 8, 3, 7]] prediction str:  if you want you\n",
      "36 loss:  0.846472978591919 prediction:  [[1 0 9 8 3 7 9 2 4 6 5 9 8 3 7]] true Y:  [[1, 0, 9, 8, 3, 7, 9, 2, 4, 6, 5, 9, 8, 3, 7]] prediction str:  if you want you\n",
      "37 loss:  0.8448712229728699 prediction:  [[1 0 9 8 3 7 9 2 4 6 5 9 8 3 7]] true Y:  [[1, 0, 9, 8, 3, 7, 9, 2, 4, 6, 5, 9, 8, 3, 7]] prediction str:  if you want you\n",
      "38 loss:  0.8424870371818542 prediction:  [[1 0 9 8 3 7 9 2 4 6 5 9 8 3 7]] true Y:  [[1, 0, 9, 8, 3, 7, 9, 2, 4, 6, 5, 9, 8, 3, 7]] prediction str:  if you want you\n",
      "39 loss:  0.8402105569839478 prediction:  [[1 0 9 8 3 7 9 2 4 6 5 9 8 3 7]] true Y:  [[1, 0, 9, 8, 3, 7, 9, 2, 4, 6, 5, 9, 8, 3, 7]] prediction str:  if you want you\n",
      "40 loss:  0.8386171460151672 prediction:  [[1 0 9 8 3 7 9 2 4 6 5 9 8 3 7]] true Y:  [[1, 0, 9, 8, 3, 7, 9, 2, 4, 6, 5, 9, 8, 3, 7]] prediction str:  if you want you\n",
      "41 loss:  0.8370826244354248 prediction:  [[1 0 9 8 3 7 9 2 4 6 5 9 8 3 7]] true Y:  [[1, 0, 9, 8, 3, 7, 9, 2, 4, 6, 5, 9, 8, 3, 7]] prediction str:  if you want you\n",
      "42 loss:  0.8353508710861206 prediction:  [[1 0 9 8 3 7 9 2 4 6 5 9 8 3 7]] true Y:  [[1, 0, 9, 8, 3, 7, 9, 2, 4, 6, 5, 9, 8, 3, 7]] prediction str:  if you want you\n",
      "43 loss:  0.8337891697883606 prediction:  [[1 0 9 8 3 7 9 2 4 6 5 9 8 3 7]] true Y:  [[1, 0, 9, 8, 3, 7, 9, 2, 4, 6, 5, 9, 8, 3, 7]] prediction str:  if you want you\n",
      "44 loss:  0.8327258229255676 prediction:  [[1 0 9 8 3 7 9 2 4 6 5 9 8 3 7]] true Y:  [[1, 0, 9, 8, 3, 7, 9, 2, 4, 6, 5, 9, 8, 3, 7]] prediction str:  if you want you\n",
      "45 loss:  0.8317901492118835 prediction:  [[1 0 9 8 3 7 9 2 4 6 5 9 8 3 7]] true Y:  [[1, 0, 9, 8, 3, 7, 9, 2, 4, 6, 5, 9, 8, 3, 7]] prediction str:  if you want you\n",
      "46 loss:  0.8306095600128174 prediction:  [[1 0 9 8 3 7 9 2 4 6 5 9 8 3 7]] true Y:  [[1, 0, 9, 8, 3, 7, 9, 2, 4, 6, 5, 9, 8, 3, 7]] prediction str:  if you want you\n",
      "47 loss:  0.8295511603355408 prediction:  [[1 0 9 8 3 7 9 2 4 6 5 9 8 3 7]] true Y:  [[1, 0, 9, 8, 3, 7, 9, 2, 4, 6, 5, 9, 8, 3, 7]] prediction str:  if you want you\n",
      "48 loss:  0.828769326210022 prediction:  [[1 0 9 8 3 7 9 2 4 6 5 9 8 3 7]] true Y:  [[1, 0, 9, 8, 3, 7, 9, 2, 4, 6, 5, 9, 8, 3, 7]] prediction str:  if you want you\n",
      "49 loss:  0.8280028700828552 prediction:  [[1 0 9 8 3 7 9 2 4 6 5 9 8 3 7]] true Y:  [[1, 0, 9, 8, 3, 7, 9, 2, 4, 6, 5, 9, 8, 3, 7]] prediction str:  if you want you\n"
     ]
    }
   ],
   "source": [
    "for i in range(50):\n",
    "    optimizer.zero_grad()\n",
    "    outputs, _status = rnn(X)\n",
    "    loss = criterion(outputs.view(-1, dic_size), Y.view(-1))\n",
    "    loss.backward()\n",
    "    optimizer.step()\n",
    "\n",
    "    result = outputs.data.numpy().argmax(axis=2)\n",
    "    result_str = ''.join([char_set[c] for c in np.squeeze(result)])\n",
    "    print(i, \"loss: \", loss.item(), \"prediction: \", result, \"true Y: \", y_data, \"prediction str: \", result_str)"
   ]
  }
 ],
 "metadata": {
  "kernelspec": {
   "display_name": "Python 3 (ipykernel)",
   "language": "python",
   "name": "python3"
  },
  "language_info": {
   "codemirror_mode": {
    "name": "ipython",
    "version": 3
   },
   "file_extension": ".py",
   "mimetype": "text/x-python",
   "name": "python",
   "nbconvert_exporter": "python",
   "pygments_lexer": "ipython3",
   "version": "3.9.12"
  }
 },
 "nbformat": 4,
 "nbformat_minor": 5
}
