{
 "cells": [
  {
   "cell_type": "markdown",
   "id": "cfbe6816",
   "metadata": {},
   "source": [
    "# mnist_softmax"
   ]
  },
  {
   "cell_type": "code",
   "execution_count": 1,
   "id": "0ec03ba2",
   "metadata": {},
   "outputs": [
    {
     "name": "stderr",
     "output_type": "stream",
     "text": [
      "/var/folders/gt/0rjz50991_387k9xggv9vwww0000gn/T/ipykernel_8637/4079555409.py:23: UserWarning: nn.init.normal is now deprecated in favor of nn.init.normal_.\n",
      "  torch.nn.init.normal(linear.weight)\n"
     ]
    }
   ],
   "source": [
    "import torch\n",
    "import torchvision.datasets as dsets\n",
    "import torchvision.transforms as transforms\n",
    "import random\n",
    "\n",
    "device = 'cuda' if torch.cuda.is_available() else 'cpu'\n",
    "\n",
    "# for reproducibility\n",
    "random.seed(777)\n",
    "torch.manual_seed(777)\n",
    "if device == 'cuda':\n",
    "    torch.cuda.manual_seed_all(777)\n",
    "\n",
    "# parameters\n",
    "learning_rate = 0.001\n",
    "training_epochs = 15\n",
    "batch_size = 100\n",
    "\n",
    "# 데이터 사진 모양 28*28 = 784\n",
    "linear = torch.nn.Linear(784, 10, bias=True).to(device)\n",
    "\n",
    "# 초기화\n",
    "torch.nn.init.normal(linear.weight)\n",
    "\n",
    "# cost/loss & optimizer\n",
    "criterion = torch.nn.CrossEntropyLoss().to(device)\n",
    "optimizer = torch.optim.Adam(linear.parameters(), lr=learning_rate)"
   ]
  },
  {
   "cell_type": "code",
   "execution_count": 2,
   "id": "b957e916",
   "metadata": {},
   "outputs": [],
   "source": [
    "mnist_train = dsets.MNIST(root=\"MNIST_data/\", train=True, transform=\\\n",
    "                         transforms.ToTensor(), download=True)\n",
    "\n",
    "mnist_test = dsets.MNIST(root=\"MNIST_data/\", train=False, transform=\\\n",
    "                         transforms.ToTensor(), download=True)"
   ]
  },
  {
   "cell_type": "code",
   "execution_count": 3,
   "id": "5d6d5c2e",
   "metadata": {},
   "outputs": [],
   "source": [
    "data_loader = torch.utils.data.DataLoader(dataset=mnist_train,\n",
    "                                          batch_size=batch_size,\n",
    "                                          shuffle=True,\n",
    "                                          drop_last=True)"
   ]
  },
  {
   "cell_type": "code",
   "execution_count": 4,
   "id": "b86b26ce",
   "metadata": {},
   "outputs": [],
   "source": [
    "for epoch in range(training_epochs):\n",
    "    for X, Y in data_loader:\n",
    "        X = X.view(-1, 28*28).to(device)"
   ]
  },
  {
   "cell_type": "code",
   "execution_count": 5,
   "id": "bc3f8eb5",
   "metadata": {},
   "outputs": [
    {
     "name": "stdout",
     "output_type": "stream",
     "text": [
      "Epoch: 0001 cost = 5.766133785\n",
      "Epoch: 0002 cost = 1.576762676\n",
      "Epoch: 0003 cost = 1.043858647\n",
      "Epoch: 0004 cost = 0.831811786\n",
      "Epoch: 0005 cost = 0.713422596\n",
      "Epoch: 0006 cost = 0.634814620\n",
      "Epoch: 0007 cost = 0.579115331\n",
      "Epoch: 0008 cost = 0.536338866\n",
      "Epoch: 0009 cost = 0.502945781\n",
      "Epoch: 0010 cost = 0.476410121\n",
      "Epoch: 0011 cost = 0.454403371\n",
      "Epoch: 0012 cost = 0.435916156\n",
      "Epoch: 0013 cost = 0.420033962\n",
      "Epoch: 0014 cost = 0.406569064\n",
      "Epoch: 0015 cost = 0.394932747\n",
      "Learning finished\n"
     ]
    }
   ],
   "source": [
    "# train\n",
    "total_batch = len(data_loader)\n",
    "for epoch in range(training_epochs):\n",
    "    avg_cost = 0\n",
    "\n",
    "    for X, Y in data_loader:\n",
    "        # reshape input image into [batch_size by 784]\n",
    "        # label is not one-hot encoded\n",
    "        X = X.view(-1, 28 * 28).to(device)\n",
    "        Y = Y.to(device)\n",
    "\n",
    "        optimizer.zero_grad()\n",
    "        hypothesis = linear(X)\n",
    "        cost = criterion(hypothesis, Y)\n",
    "        cost.backward()\n",
    "        optimizer.step()\n",
    "\n",
    "        avg_cost += cost / total_batch\n",
    "\n",
    "    print('Epoch:', '%04d' % (epoch + 1), 'cost =', '{:.9f}'.format(avg_cost))\n",
    "\n",
    "print('Learning finished')"
   ]
  },
  {
   "cell_type": "markdown",
   "id": "e54ecc85",
   "metadata": {},
   "source": [
    "# mnist_nn"
   ]
  },
  {
   "cell_type": "code",
   "execution_count": 6,
   "id": "f618893b",
   "metadata": {},
   "outputs": [],
   "source": [
    "# nn layers\n",
    "linear1 = torch.nn.Linear(784, 256, bias=True)\n",
    "linear2 = torch.nn.Linear(256, 256, bias=True)\n",
    "linear3 = torch.nn.Linear(256, 10, bias=True)\n",
    "relu = torch.nn.ReLU()"
   ]
  },
  {
   "cell_type": "code",
   "execution_count": 7,
   "id": "80c6685b",
   "metadata": {},
   "outputs": [
    {
     "data": {
      "text/plain": [
       "Parameter containing:\n",
       "tensor([[ 0.0478, -0.5218, -0.5596,  ...,  0.5776, -1.0125,  1.8102],\n",
       "        [-0.2905, -3.2769, -0.5354,  ..., -0.0161, -0.2608,  0.2602],\n",
       "        [ 0.8661, -1.4953,  1.9001,  ...,  1.2469, -0.0206,  0.0991],\n",
       "        ...,\n",
       "        [-0.1032,  1.2246,  0.1657,  ...,  0.6953, -0.9528,  1.1839],\n",
       "        [ 1.8482,  0.3867,  0.1505,  ...,  1.5141,  1.3169, -0.4655],\n",
       "        [-0.2702, -0.7344,  0.2048,  ...,  1.9289, -0.0597, -0.2786]],\n",
       "       requires_grad=True)"
      ]
     },
     "execution_count": 7,
     "metadata": {},
     "output_type": "execute_result"
    }
   ],
   "source": [
    "# Initialization\n",
    "torch.nn.init.normal_(linear1.weight)\n",
    "torch.nn.init.normal_(linear2.weight)\n",
    "torch.nn.init.normal_(linear3.weight)"
   ]
  },
  {
   "cell_type": "code",
   "execution_count": 8,
   "id": "e16eb07d",
   "metadata": {},
   "outputs": [],
   "source": [
    "# model / 마지막에 relu를 하지 않은 이유 : cross 엔트로피를 하기 위해 소프트 맥스 적용\n",
    "model = torch.nn.Sequential(linear1, relu, linear2, relu, linear3).to(device)"
   ]
  },
  {
   "cell_type": "code",
   "execution_count": 9,
   "id": "ce4e86f3",
   "metadata": {},
   "outputs": [],
   "source": [
    "# define cost/loss & optimizer\n",
    "criterion = torch.nn.CrossEntropyLoss().to(device)    # Softmax is internally computed.\n",
    "optimizer = torch.optim.Adam(model.parameters(), lr=learning_rate)"
   ]
  },
  {
   "cell_type": "code",
   "execution_count": 10,
   "id": "6af64433",
   "metadata": {},
   "outputs": [
    {
     "name": "stdout",
     "output_type": "stream",
     "text": [
      "Epoch: 0001 cost = 157.207214355\n",
      "Epoch: 0002 cost = 36.997970581\n",
      "Epoch: 0003 cost = 23.290493011\n",
      "Epoch: 0004 cost = 15.998687744\n",
      "Epoch: 0005 cost = 11.764789581\n",
      "Epoch: 0006 cost = 8.422083855\n",
      "Epoch: 0007 cost = 6.234779358\n",
      "Epoch: 0008 cost = 4.646455765\n",
      "Epoch: 0009 cost = 3.416964531\n",
      "Epoch: 0010 cost = 2.626241446\n",
      "Epoch: 0011 cost = 2.004442930\n",
      "Epoch: 0012 cost = 1.496607542\n",
      "Epoch: 0013 cost = 1.143470407\n",
      "Epoch: 0014 cost = 0.877994061\n",
      "Epoch: 0015 cost = 0.765159547\n",
      "Learning finished\n"
     ]
    }
   ],
   "source": [
    "total_batch = len(data_loader)\n",
    "for epoch in range(training_epochs):\n",
    "    avg_cost = 0\n",
    "\n",
    "    for X, Y in data_loader:\n",
    "        # reshape input image into [batch_size by 784]\n",
    "        # label is not one-hot encoded\n",
    "        X = X.view(-1, 28 * 28).to(device)\n",
    "        Y = Y.to(device)\n",
    "\n",
    "        optimizer.zero_grad()\n",
    "        hypothesis = model(X)\n",
    "        cost = criterion(hypothesis, Y)\n",
    "        cost.backward()\n",
    "        optimizer.step()\n",
    "\n",
    "        avg_cost += cost / total_batch\n",
    "\n",
    "    print('Epoch:', '%04d' % (epoch + 1), 'cost =', '{:.9f}'.format(avg_cost))\n",
    "\n",
    "print('Learning finished')"
   ]
  },
  {
   "cell_type": "code",
   "execution_count": 11,
   "id": "651c86f0",
   "metadata": {},
   "outputs": [
    {
     "name": "stdout",
     "output_type": "stream",
     "text": [
      "Accuracy: 0.9488000273704529\n",
      "Label:  8\n",
      "Prediction:  5\n"
     ]
    },
    {
     "name": "stderr",
     "output_type": "stream",
     "text": [
      "/Users/gyuyeonjo/opt/anaconda3/lib/python3.9/site-packages/torchvision/datasets/mnist.py:63: UserWarning: test_data has been renamed data\n",
      "  warnings.warn(\"test_data has been renamed data\")\n",
      "/Users/gyuyeonjo/opt/anaconda3/lib/python3.9/site-packages/torchvision/datasets/mnist.py:53: UserWarning: test_labels has been renamed targets\n",
      "  warnings.warn(\"test_labels has been renamed targets\")\n"
     ]
    }
   ],
   "source": [
    "# Test the model using test sets\n",
    "with torch.no_grad():\n",
    "    X_test = mnist_test.test_data.view(-1, 28 * 28).float().to(device)\n",
    "    Y_test = mnist_test.test_labels.to(device)\n",
    "\n",
    "    prediction = model(X_test)\n",
    "    correct_prediction = torch.argmax(prediction, 1) == Y_test\n",
    "    accuracy = correct_prediction.float().mean()\n",
    "    print('Accuracy:', accuracy.item())\n",
    "\n",
    "    # Get one and predict\n",
    "    r = random.randint(0, len(mnist_test) - 1)\n",
    "    X_single_data = mnist_test.test_data[r:r + 1].view(-1, 28 * 28).float().to(device)\n",
    "    Y_single_data = mnist_test.test_labels[r:r + 1].to(device)\n",
    "\n",
    "    print('Label: ', Y_single_data.item())\n",
    "    single_prediction = model(X_single_data)\n",
    "    print('Prediction: ', torch.argmax(single_prediction, 1).item())"
   ]
  },
  {
   "cell_type": "code",
   "execution_count": null,
   "id": "b11c69b3",
   "metadata": {},
   "outputs": [],
   "source": []
  }
 ],
 "metadata": {
  "kernelspec": {
   "display_name": "Python 3 (ipykernel)",
   "language": "python",
   "name": "python3"
  },
  "language_info": {
   "codemirror_mode": {
    "name": "ipython",
    "version": 3
   },
   "file_extension": ".py",
   "mimetype": "text/x-python",
   "name": "python",
   "nbconvert_exporter": "python",
   "pygments_lexer": "ipython3",
   "version": "3.9.12"
  }
 },
 "nbformat": 4,
 "nbformat_minor": 5
}
