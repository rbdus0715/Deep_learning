{
 "cells": [
  {
   "cell_type": "markdown",
   "id": "a03c78d0",
   "metadata": {},
   "source": [
    "# 넘파이 복습"
   ]
  },
  {
   "cell_type": "code",
   "execution_count": 1,
   "id": "78d2d409",
   "metadata": {},
   "outputs": [
    {
     "name": "stdout",
     "output_type": "stream",
     "text": [
      "[0. 1. 2. 3. 4. 5. 6.]\n",
      "1\n",
      "(7,)\n"
     ]
    }
   ],
   "source": [
    "import numpy as np\n",
    "import torch\n",
    "# 1차원\n",
    "t1 = np.array([0.,1.,2.,3.,4.,5.,6.])\n",
    "print(t1)\n",
    "print(t1.ndim) # 차원\n",
    "print(t1.shape) # 모양"
   ]
  },
  {
   "cell_type": "code",
   "execution_count": 2,
   "id": "1c2a8038",
   "metadata": {},
   "outputs": [
    {
     "name": "stdout",
     "output_type": "stream",
     "text": [
      "[[ 1.  2.  3.]\n",
      " [ 4.  5.  6.]\n",
      " [ 7.  8.  9.]\n",
      " [10. 11. 12.]]\n",
      "2\n",
      "(4, 3)\n"
     ]
    }
   ],
   "source": [
    "# 2차원\n",
    "t2 = np.array([\n",
    "    [1.,2.,3.],\n",
    "    [4.,5.,6.],\n",
    "    [7.,8.,9.],\n",
    "    [10.,11.,12.]\n",
    "])\n",
    "print(t2)\n",
    "print(t2.ndim) # 차원\n",
    "print(t2.shape) # 모양"
   ]
  },
  {
   "cell_type": "markdown",
   "id": "92816437",
   "metadata": {},
   "source": [
    "# 파이토치 연산"
   ]
  },
  {
   "cell_type": "markdown",
   "id": "22cab298",
   "metadata": {},
   "source": [
    "### pytorch tensor"
   ]
  },
  {
   "cell_type": "code",
   "execution_count": 3,
   "id": "59c20186",
   "metadata": {},
   "outputs": [
    {
     "name": "stdout",
     "output_type": "stream",
     "text": [
      "tensor([0., 1., 2., 3., 4., 5., 6.])\n",
      "1\n",
      "torch.Size([7])\n",
      "torch.Size([7])\n",
      "tensor(0.) tensor(1.) tensor(6.)\n",
      "tensor([2., 3., 4.]) tensor([4., 5.])\n",
      "tensor([0., 1.]) tensor([3., 4., 5., 6.])\n"
     ]
    }
   ],
   "source": [
    "# 1차원\n",
    "T1 = torch.FloatTensor([0.,1.,2.,3.,4.,5.,6.])\n",
    "print(T1)\n",
    "print(T1.dim()) # dim()\n",
    "print(T1.shape) # shape\n",
    "print(T1.size()) # size()\n",
    "print(T1[0],T1[1],T1[-1])\n",
    "print(T1[2:5], T1[4:-1])\n",
    "print(T1[:2], T1[3:])"
   ]
  },
  {
   "cell_type": "code",
   "execution_count": 4,
   "id": "167506b5",
   "metadata": {},
   "outputs": [
    {
     "name": "stdout",
     "output_type": "stream",
     "text": [
      "tensor([[ 1.,  2.,  3.],\n",
      "        [ 4.,  5.,  6.],\n",
      "        [ 7.,  8.,  9.],\n",
      "        [10., 11., 12.]])\n",
      "2\n",
      "torch.Size([4, 3])\n",
      "torch.Size([4, 3])\n",
      "tensor([ 2.,  5.,  8., 11.])\n",
      "torch.Size([4])\n",
      "tensor([[ 1.,  2.],\n",
      "        [ 4.,  5.],\n",
      "        [ 7.,  8.],\n",
      "        [10., 11.]])\n"
     ]
    }
   ],
   "source": [
    "# 2차원\n",
    "T2 = torch.FloatTensor([\n",
    "    [1.,2.,3.],\n",
    "    [4.,5.,6.],\n",
    "    [7.,8.,9.],\n",
    "    [10.,11.,12.]\n",
    "])\n",
    "print(T2)\n",
    "print(T2.dim()) \n",
    "print(T2.shape) \n",
    "print(T2.size()) \n",
    "print(T2[:,1])\n",
    "print(T2[:,1].size())\n",
    "print(T2[:, :-1])"
   ]
  },
  {
   "cell_type": "markdown",
   "id": "4a84ec7b",
   "metadata": {},
   "source": [
    "### broadcasting : 다른 사이즈의 행렬도 사이즈를 맞춰서 계산"
   ]
  },
  {
   "cell_type": "code",
   "execution_count": 5,
   "id": "a490fc7f",
   "metadata": {},
   "outputs": [
    {
     "name": "stdout",
     "output_type": "stream",
     "text": [
      "tensor([[5., 5.]])\n"
     ]
    }
   ],
   "source": [
    "# Same shape\n",
    "m1 = torch.FloatTensor([[3,3]])\n",
    "m2 = torch.FloatTensor([[2,2]])\n",
    "print(m1 + m2)"
   ]
  },
  {
   "cell_type": "code",
   "execution_count": 6,
   "id": "30406869",
   "metadata": {},
   "outputs": [
    {
     "name": "stdout",
     "output_type": "stream",
     "text": [
      "tensor([[6., 6.]])\n"
     ]
    }
   ],
   "source": [
    "# vector + scalar\n",
    "m3 = torch.FloatTensor([[3,3]])\n",
    "m4 = torch.FloatTensor([3]) # 3 -> [[3,3]]으로 변환\n",
    "print(m3 + m4)"
   ]
  },
  {
   "cell_type": "code",
   "execution_count": 7,
   "id": "6f23e0e4",
   "metadata": {},
   "outputs": [
    {
     "name": "stdout",
     "output_type": "stream",
     "text": [
      "tensor([[4., 5.],\n",
      "        [5., 6.]])\n"
     ]
    }
   ],
   "source": [
    "# 2*1 vector + 1*2 vector\n",
    "m5 = torch.FloatTensor([[1,2]])\n",
    "m6 = torch.FloatTensor([[3],[4]])\n",
    "print(m5 + m6)"
   ]
  },
  {
   "cell_type": "code",
   "execution_count": 8,
   "id": "cbb44514",
   "metadata": {},
   "outputs": [],
   "source": [
    "# broadcasting 때문에 원래 오류가 발생해야 하는 연산에서 \n",
    "# 오류를 발견하지 못하고 프로그램이 진행된다는 단점이 있음 -> 이점 유의!!"
   ]
  },
  {
   "cell_type": "markdown",
   "id": "cf55c68f",
   "metadata": {},
   "source": [
    "### multiplication vs matrix multiplication"
   ]
  },
  {
   "cell_type": "code",
   "execution_count": 9,
   "id": "da63e4ef",
   "metadata": {},
   "outputs": [
    {
     "name": "stdout",
     "output_type": "stream",
     "text": [
      "tensor([[1., 2.],\n",
      "        [6., 8.]])\n"
     ]
    }
   ],
   "source": [
    "# element 곱\n",
    "s1 = torch.FloatTensor([[1,2],[3,4]])\n",
    "s2 = torch.FloatTensor([[1], [2]])\n",
    "print(s1.mul(s2))"
   ]
  },
  {
   "cell_type": "code",
   "execution_count": 10,
   "id": "0902a56e",
   "metadata": {},
   "outputs": [
    {
     "name": "stdout",
     "output_type": "stream",
     "text": [
      "tensor([[ 5.],\n",
      "        [11.]])\n"
     ]
    }
   ],
   "source": [
    "# 행렬 곱\n",
    "s3 = torch.FloatTensor([[1,2],[3,4]])\n",
    "s4 = torch.FloatTensor([[1], [2]])\n",
    "print(s3.matmul(s4))"
   ]
  },
  {
   "cell_type": "markdown",
   "id": "91509ddd",
   "metadata": {},
   "source": [
    "### mean"
   ]
  },
  {
   "cell_type": "code",
   "execution_count": 11,
   "id": "ff6dddb8",
   "metadata": {},
   "outputs": [
    {
     "name": "stdout",
     "output_type": "stream",
     "text": [
      "tensor(1.5000)\n"
     ]
    }
   ],
   "source": [
    "# 편균 계산\n",
    "d = torch.FloatTensor([1,2])\n",
    "print(d.mean()) # mean()"
   ]
  },
  {
   "cell_type": "code",
   "execution_count": 12,
   "id": "0ce55619",
   "metadata": {},
   "outputs": [
    {
     "name": "stdout",
     "output_type": "stream",
     "text": [
      "mean(): input dtype should be either floating point or complex dtypes. Got Long instead.\n"
     ]
    }
   ],
   "source": [
    "# mean() 함수는 int 형에서 사용할 수 없음\n",
    "d = torch.LongTensor([1,2])\n",
    "try:\n",
    "    print(d.mean())\n",
    "except Exception as exc:\n",
    "    print(exc)"
   ]
  },
  {
   "cell_type": "code",
   "execution_count": 13,
   "id": "7b4ca428",
   "metadata": {
    "scrolled": true
   },
   "outputs": [
    {
     "name": "stdout",
     "output_type": "stream",
     "text": [
      "tensor([[1., 2.],\n",
      "        [3., 4.]])\n",
      "tensor(2.5000)\n",
      "tensor([2., 3.])\n",
      "tensor([1.5000, 3.5000])\n",
      "tensor([1.5000, 3.5000])\n"
     ]
    }
   ],
   "source": [
    "d = torch.FloatTensor([[1,2],[3,4]])\n",
    "print(d)\n",
    "print(d.mean()) # 전체 4개의 element에 대해서\n",
    "print(d.mean(dim=0)) # 1과3, 2와4\n",
    "print(d.mean(dim=1)) # 1과2, 3과4\n",
    "print(d.mean(dim=-1))"
   ]
  },
  {
   "cell_type": "markdown",
   "id": "332784d4",
   "metadata": {},
   "source": [
    "### sum"
   ]
  },
  {
   "cell_type": "code",
   "execution_count": 14,
   "id": "5f80cd8e",
   "metadata": {},
   "outputs": [
    {
     "name": "stdout",
     "output_type": "stream",
     "text": [
      "tensor([[1., 2.],\n",
      "        [3., 4.]])\n",
      "tensor(10.)\n",
      "tensor([4., 6.])\n",
      "tensor([3., 7.])\n",
      "tensor([3., 7.])\n"
     ]
    }
   ],
   "source": [
    "d = torch.FloatTensor([[1,2],[3,4]])\n",
    "print(d)\n",
    "print(d.sum()) # 전체 4개의 element에 대해서\n",
    "print(d.sum(dim=0)) # 1과3, 2와4\n",
    "print(d.sum(dim=1)) # 1과2, 3과4\n",
    "print(d.sum(dim=-1))"
   ]
  },
  {
   "cell_type": "markdown",
   "id": "86423163",
   "metadata": {},
   "source": [
    "### max and argmax"
   ]
  },
  {
   "cell_type": "code",
   "execution_count": 15,
   "id": "67b944aa",
   "metadata": {},
   "outputs": [
    {
     "name": "stdout",
     "output_type": "stream",
     "text": [
      "tensor([[1., 2.],\n",
      "        [3., 4.]])\n"
     ]
    }
   ],
   "source": [
    "# max는 큰 값을, argmax는 큰 값의 인덱스 값을 반환\n",
    "d = torch.FloatTensor([[1,2],[3,4]])\n",
    "print(d)"
   ]
  },
  {
   "cell_type": "code",
   "execution_count": 16,
   "id": "73268bd5",
   "metadata": {},
   "outputs": [
    {
     "name": "stdout",
     "output_type": "stream",
     "text": [
      "tensor(4.)\n"
     ]
    }
   ],
   "source": [
    "print(d.max())"
   ]
  },
  {
   "cell_type": "code",
   "execution_count": 17,
   "id": "02dbe065",
   "metadata": {},
   "outputs": [
    {
     "name": "stdout",
     "output_type": "stream",
     "text": [
      "torch.return_types.max(\n",
      "values=tensor([3., 4.]),\n",
      "indices=tensor([1, 1]))\n",
      "tensor([3., 4.])\n",
      "tensor([1, 1])\n"
     ]
    }
   ],
   "source": [
    "print(d.max(dim=0))\n",
    "print(d.max(dim=0)[0]) # max\n",
    "print(d.max(dim=0)[1]) # argmax"
   ]
  },
  {
   "cell_type": "code",
   "execution_count": 18,
   "id": "1a96247e",
   "metadata": {},
   "outputs": [
    {
     "name": "stdout",
     "output_type": "stream",
     "text": [
      "torch.return_types.max(\n",
      "values=tensor([2., 4.]),\n",
      "indices=tensor([1, 1]))\n",
      "torch.return_types.max(\n",
      "values=tensor([2., 4.]),\n",
      "indices=tensor([1, 1]))\n"
     ]
    }
   ],
   "source": [
    "print(d.max(dim=1))\n",
    "print(d.max(dim=-1))"
   ]
  },
  {
   "cell_type": "markdown",
   "id": "d0cead4c",
   "metadata": {},
   "source": [
    "### view (reshape) 굉장히 중요하다!!"
   ]
  },
  {
   "cell_type": "code",
   "execution_count": 19,
   "id": "c1f83d28",
   "metadata": {},
   "outputs": [
    {
     "name": "stdout",
     "output_type": "stream",
     "text": [
      "tensor([[[ 0.,  1.,  2.],\n",
      "         [ 3.,  4.,  5.]],\n",
      "\n",
      "        [[ 6.,  7.,  8.],\n",
      "         [ 9., 10., 11.]]])\n",
      "torch.Size([2, 2, 3])\n"
     ]
    }
   ],
   "source": [
    "t = np.array([\n",
    "    [[0,1,2],[3,4,5]],\n",
    "    [[6,7,8],[9,10,11]]\n",
    "])\n",
    "ft = torch.FloatTensor(t)\n",
    "print(ft)\n",
    "print(ft.shape)"
   ]
  },
  {
   "cell_type": "code",
   "execution_count": 20,
   "id": "0740a80f",
   "metadata": {
    "scrolled": true
   },
   "outputs": [
    {
     "name": "stdout",
     "output_type": "stream",
     "text": [
      "tensor([[ 0.,  1.,  2.],\n",
      "        [ 3.,  4.,  5.],\n",
      "        [ 6.,  7.,  8.],\n",
      "        [ 9., 10., 11.]])\n",
      "tensor([[[ 0.,  1.,  2.]],\n",
      "\n",
      "        [[ 3.,  4.,  5.]],\n",
      "\n",
      "        [[ 6.,  7.,  8.]],\n",
      "\n",
      "        [[ 9., 10., 11.]]])\n",
      "torch.Size([4, 1, 3])\n"
     ]
    }
   ],
   "source": [
    "print(ft.view(-1,3))\n",
    "print(ft.view(-1,1,3))\n",
    "print(ft.view(-1,1,3).shape)"
   ]
  },
  {
   "cell_type": "markdown",
   "id": "0dc0c23a",
   "metadata": {},
   "source": [
    "### squeeze 차원이 1인 경우 차원을 없애줌 ex) (3,1) -> (3)"
   ]
  },
  {
   "cell_type": "code",
   "execution_count": 21,
   "id": "f2b7d980",
   "metadata": {},
   "outputs": [
    {
     "name": "stdout",
     "output_type": "stream",
     "text": [
      "tensor([[0.],\n",
      "        [1.],\n",
      "        [2.]])\n",
      "torch.Size([3, 1])\n"
     ]
    }
   ],
   "source": [
    "ft = torch.FloatTensor([[0],[1],[2]])\n",
    "# ft = torch.FloatTensor([\n",
    "#     [1,2,3],[4,5,6]\n",
    "# ])\n",
    "print(ft)\n",
    "print(ft.shape)"
   ]
  },
  {
   "cell_type": "code",
   "execution_count": 29,
   "id": "6d20e442",
   "metadata": {},
   "outputs": [
    {
     "name": "stdout",
     "output_type": "stream",
     "text": [
      "tensor([[0.],\n",
      "        [1.],\n",
      "        [2.]])\n",
      "torch.Size([3])\n"
     ]
    }
   ],
   "source": [
    "# squeeze(dim=0) -> 첫번째\n",
    "print(ft.squeeze(dim=0)) # 0번째 dim = 3, 똑같음 -> 변화가 없음\n",
    "print(ft.squeeze().shape)"
   ]
  },
  {
   "cell_type": "markdown",
   "id": "a30a50e8",
   "metadata": {},
   "source": [
    "### unsqueeze"
   ]
  },
  {
   "cell_type": "code",
   "execution_count": 38,
   "id": "038e7868",
   "metadata": {},
   "outputs": [
    {
     "name": "stdout",
     "output_type": "stream",
     "text": [
      "torch.Size([3])\n"
     ]
    }
   ],
   "source": [
    "ft = torch.Tensor([0,1,2])\n",
    "print(ft.shape)"
   ]
  },
  {
   "cell_type": "code",
   "execution_count": 39,
   "id": "e806f3d0",
   "metadata": {},
   "outputs": [
    {
     "name": "stdout",
     "output_type": "stream",
     "text": [
      "tensor([[0., 1., 2.]])\n",
      "torch.Size([1, 3])\n"
     ]
    }
   ],
   "source": [
    "# 0번째 차원에 1을 넣어 확장\n",
    "print(ft.unsqueeze(0))\n",
    "print(ft.unsqueeze(0).shape)"
   ]
  },
  {
   "cell_type": "code",
   "execution_count": 41,
   "id": "2821a07e",
   "metadata": {},
   "outputs": [
    {
     "name": "stdout",
     "output_type": "stream",
     "text": [
      "tensor([[0., 1., 2.]])\n",
      "torch.Size([1, 3])\n"
     ]
    }
   ],
   "source": [
    "print(ft.view(1,-1))\n",
    "print(ft.view(1,-1).shape)"
   ]
  },
  {
   "cell_type": "code",
   "execution_count": 44,
   "id": "be2d35f8",
   "metadata": {
    "scrolled": true
   },
   "outputs": [
    {
     "name": "stdout",
     "output_type": "stream",
     "text": [
      "tensor([[0.],\n",
      "        [1.],\n",
      "        [2.]])\n",
      "torch.Size([3, 1])\n"
     ]
    }
   ],
   "source": [
    "# 1번째 차원에 1을 넣어 확장\n",
    "print(ft.unsqueeze(1))\n",
    "print(ft.unsqueeze(1).shape)"
   ]
  },
  {
   "cell_type": "code",
   "execution_count": 46,
   "id": "eb90268b",
   "metadata": {},
   "outputs": [
    {
     "name": "stdout",
     "output_type": "stream",
     "text": [
      "tensor([[0.],\n",
      "        [1.],\n",
      "        [2.]])\n",
      "torch.Size([3, 1])\n"
     ]
    }
   ],
   "source": [
    "# 마지막 번째 차원에 1을 넣어 확장 -> dim = 1\n",
    "print(ft.unsqueeze(-1))\n",
    "print(ft.unsqueeze(-1).shape)"
   ]
  },
  {
   "cell_type": "markdown",
   "id": "0e34ce5e",
   "metadata": {},
   "source": [
    "### type casting"
   ]
  },
  {
   "cell_type": "code",
   "execution_count": 47,
   "id": "5c2fbf54",
   "metadata": {
    "scrolled": true
   },
   "outputs": [
    {
     "name": "stdout",
     "output_type": "stream",
     "text": [
      "tensor([1, 2, 3, 4])\n"
     ]
    }
   ],
   "source": [
    "lt = torch.LongTensor([1,2,3,4])\n",
    "print(lt)"
   ]
  },
  {
   "cell_type": "code",
   "execution_count": 48,
   "id": "bf38ca7c",
   "metadata": {},
   "outputs": [
    {
     "name": "stdout",
     "output_type": "stream",
     "text": [
      "tensor([1., 2., 3., 4.])\n"
     ]
    }
   ],
   "source": [
    "print(lt.float())"
   ]
  },
  {
   "cell_type": "code",
   "execution_count": 49,
   "id": "fafcd221",
   "metadata": {},
   "outputs": [
    {
     "name": "stdout",
     "output_type": "stream",
     "text": [
      "tensor([1, 0, 0, 1], dtype=torch.uint8)\n"
     ]
    }
   ],
   "source": [
    "bt = torch.ByteTensor([True, False, False, True])\n",
    "print(bt)"
   ]
  },
  {
   "cell_type": "code",
   "execution_count": 50,
   "id": "9670964d",
   "metadata": {},
   "outputs": [
    {
     "name": "stdout",
     "output_type": "stream",
     "text": [
      "tensor([1, 0, 0, 1])\n",
      "tensor([1., 0., 0., 1.])\n"
     ]
    }
   ],
   "source": [
    "print(bt.long())\n",
    "print(bt.float())"
   ]
  },
  {
   "cell_type": "markdown",
   "id": "6f6b222d",
   "metadata": {},
   "source": [
    "### concatenate (사슬) -> 이어 붙이기"
   ]
  },
  {
   "cell_type": "code",
   "execution_count": 55,
   "id": "dbdea99a",
   "metadata": {},
   "outputs": [
    {
     "name": "stdout",
     "output_type": "stream",
     "text": [
      "tensor([[1., 2.],\n",
      "        [3., 4.],\n",
      "        [5., 6.],\n",
      "        [7., 8.]])\n"
     ]
    }
   ],
   "source": [
    "x = torch.FloatTensor([[1,2],[3,4]]) # 2*2\n",
    "y = torch.FloatTensor([[5,6],[7,8]]) # 2*2\n",
    "\n",
    "print(torch. cat([x,y], dim=0)) \n",
    "# dim 0에 대해서 이어붙이기 (세로로 길어짐) -> 4*2"
   ]
  },
  {
   "cell_type": "code",
   "execution_count": 56,
   "id": "2f3c039b",
   "metadata": {},
   "outputs": [
    {
     "name": "stdout",
     "output_type": "stream",
     "text": [
      "tensor([[1., 2., 5., 6.],\n",
      "        [3., 4., 7., 8.]])\n"
     ]
    }
   ],
   "source": [
    "print(torch.cat([x,y], dim=1)) \n",
    "# dim 1에 대해서 이어붙이기 (가로로 길어짐) -> 2*4"
   ]
  },
  {
   "cell_type": "markdown",
   "id": "627947fe",
   "metadata": {},
   "source": [
    "### stacking -> concatenation을 조금 더 편리하게 사용\n",
    "> stack(텐서 리스트, dim) -> 리스트 안의 텐서들을 dim에 대하여 합쳐라"
   ]
  },
  {
   "cell_type": "code",
   "execution_count": 65,
   "id": "d08589d1",
   "metadata": {
    "scrolled": true
   },
   "outputs": [
    {
     "name": "stdout",
     "output_type": "stream",
     "text": [
      "tensor([[1., 4.],\n",
      "        [2., 5.],\n",
      "        [3., 6.]])\n"
     ]
    }
   ],
   "source": [
    "x = torch.FloatTensor([1,4]) \n",
    "y = torch.FloatTensor([2,5])\n",
    "z = torch.FloatTensor([3,6])\n",
    "\n",
    "print(torch.stack([x,y,z]))"
   ]
  },
  {
   "cell_type": "code",
   "execution_count": 66,
   "id": "2adaabba",
   "metadata": {
    "scrolled": true
   },
   "outputs": [
    {
     "name": "stdout",
     "output_type": "stream",
     "text": [
      "tensor([[1., 2., 3.],\n",
      "        [4., 5., 6.]])\n"
     ]
    }
   ],
   "source": [
    "print(torch.stack([x,y,z], dim =1))"
   ]
  },
  {
   "cell_type": "code",
   "execution_count": 71,
   "id": "85ac77d2",
   "metadata": {},
   "outputs": [
    {
     "name": "stdout",
     "output_type": "stream",
     "text": [
      "tensor([[1., 4.],\n",
      "        [2., 5.],\n",
      "        [3., 6.]])\n"
     ]
    }
   ],
   "source": [
    "print(torch.cat([x.unsqueeze(0),y.unsqueeze(0),z.unsqueeze(0)],dim=0))\n",
    "# x.unsqueeze(0) -> (1,2)"
   ]
  },
  {
   "cell_type": "markdown",
   "id": "af7b741a",
   "metadata": {},
   "source": [
    "### ones & zeros"
   ]
  },
  {
   "cell_type": "code",
   "execution_count": 73,
   "id": "4e674b6e",
   "metadata": {
    "scrolled": true
   },
   "outputs": [
    {
     "name": "stdout",
     "output_type": "stream",
     "text": [
      "tensor([[1., 2., 3.],\n",
      "        [2., 1., 0.]])\n"
     ]
    }
   ],
   "source": [
    "x = torch.FloatTensor([[1,2,3],[2,1,0]])\n",
    "print(x)"
   ]
  },
  {
   "cell_type": "code",
   "execution_count": 74,
   "id": "38cab421",
   "metadata": {},
   "outputs": [
    {
     "name": "stdout",
     "output_type": "stream",
     "text": [
      "tensor([[1., 1., 1.],\n",
      "        [1., 1., 1.]])\n"
     ]
    }
   ],
   "source": [
    "print(torch.ones_like(x))"
   ]
  },
  {
   "cell_type": "code",
   "execution_count": 75,
   "id": "050b3f7e",
   "metadata": {},
   "outputs": [
    {
     "name": "stdout",
     "output_type": "stream",
     "text": [
      "tensor([[0., 0., 0.],\n",
      "        [0., 0., 0.]])\n"
     ]
    }
   ],
   "source": [
    "print(torch.zeros_like(x))"
   ]
  },
  {
   "cell_type": "markdown",
   "id": "f8122670",
   "metadata": {},
   "source": [
    "### in-place operation"
   ]
  },
  {
   "cell_type": "code",
   "execution_count": 80,
   "id": "56b43970",
   "metadata": {},
   "outputs": [
    {
     "name": "stdout",
     "output_type": "stream",
     "text": [
      "tensor([[2., 4.],\n",
      "        [6., 8.]])\n",
      "tensor([[1., 2.],\n",
      "        [3., 4.]])\n"
     ]
    }
   ],
   "source": [
    "x = torch.FloatTensor([[1,2],[3,4]])\n",
    "print(x.mul(2.))\n",
    "print(x) # 다시 출력하면 원래대로 돌아옴"
   ]
  },
  {
   "cell_type": "code",
   "execution_count": 81,
   "id": "93bfea0d",
   "metadata": {},
   "outputs": [
    {
     "name": "stdout",
     "output_type": "stream",
     "text": [
      "tensor([[2., 4.],\n",
      "        [6., 8.]])\n",
      "tensor([[2., 4.],\n",
      "        [6., 8.]])\n"
     ]
    }
   ],
   "source": [
    "print(x.mul_(2.))\n",
    "print(x) "
   ]
  }
 ],
 "metadata": {
  "kernelspec": {
   "display_name": "Python 3 (ipykernel)",
   "language": "python",
   "name": "python3"
  },
  "language_info": {
   "codemirror_mode": {
    "name": "ipython",
    "version": 3
   },
   "file_extension": ".py",
   "mimetype": "text/x-python",
   "name": "python",
   "nbconvert_exporter": "python",
   "pygments_lexer": "ipython3",
   "version": "3.9.12"
  }
 },
 "nbformat": 4,
 "nbformat_minor": 5
}
