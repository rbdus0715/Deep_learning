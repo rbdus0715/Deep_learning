{
 "cells": [
  {
   "cell_type": "markdown",
   "id": "2b3c6b40",
   "metadata": {},
   "source": [
    "# minibatch gradient descent"
   ]
  },
  {
   "cell_type": "code",
   "execution_count": 1,
   "id": "859ca069",
   "metadata": {},
   "outputs": [],
   "source": [
    "from torch.utils.data import Dataset"
   ]
  },
  {
   "cell_type": "code",
   "execution_count": 2,
   "id": "fc81a92d",
   "metadata": {},
   "outputs": [],
   "source": [
    "class CustomDataset(Dataset):\n",
    "    def __init__(self):\n",
    "        self.x_data = [\n",
    "            [73,80,75],\n",
    "            [93,88,93],\n",
    "            [89,91,90],\n",
    "            [96,98,100],\n",
    "            [73,66,70]\n",
    "        ]\n",
    "        self.y_data = [\n",
    "            [152],\n",
    "            [185],\n",
    "            [180],\n",
    "            [196],\n",
    "            [142]\n",
    "        ]\n",
    "    def __len__(self):\n",
    "        return len(self.x_data)\n",
    "    def __getitem__(self, idx):\n",
    "        x = torch.FloatTensor(self.x_data[idx])\n",
    "        y = torch.FloatTensor(self.y_data[idx])\n",
    "        \n",
    "        return x, y\n",
    "dataset = CustomDataset()"
   ]
  },
  {
   "cell_type": "code",
   "execution_count": 3,
   "id": "f6f39d5a",
   "metadata": {},
   "outputs": [],
   "source": [
    "# __len__() : 이 데이터셋의 총 데이터 수\n",
    "# __getitem__() : 어떠한 인덱스 idx를 받았을 때, 그에 상응하는 입출력 데이터를 반환"
   ]
  },
  {
   "cell_type": "code",
   "execution_count": null,
   "id": "2afb2548",
   "metadata": {},
   "outputs": [],
   "source": [
    "from torch.utils.data import DataLoader\n",
    "dataloader = DataLoader(\n",
    "    dataset,\n",
    "    batch_size=2,\n",
    "    shuffle=True\n",
    ")"
   ]
  },
  {
   "cell_type": "code",
   "execution_count": null,
   "id": "255abcdb",
   "metadata": {},
   "outputs": [],
   "source": [
    "# batch_size = 2 : 각 미니배치의 크기\n",
    "# shuffle=True : Epoch 마다 데이터 셋을 섞어서 데이터가 학습되는 순서 바꿈"
   ]
  },
  {
   "cell_type": "code",
   "execution_count": 6,
   "id": "0dfd0ac4",
   "metadata": {},
   "outputs": [],
   "source": [
    "# nb_epochs = 20\n",
    "# for epoch in range(nb_epochs + 1):\n",
    "#     for batch_idx, samples in emumerate(dataloader):\n",
    "#         x_train, y_train = sample\n",
    "#         # H(x) 계산\n",
    "#         prediction = model(x_train)\n",
    "\n",
    "#         # cost 계산\n",
    "#         cost = F.mse_loss(prediction, y_train) # F를 이용해서 cost를 구함\n",
    "\n",
    "#         # cost로 H(x) 계산\n",
    "#         optimizer.zero_grad()\n",
    "#         cost.backward()\n",
    "#         optimizer.step()\n",
    "\n",
    "#         print('Epoch {:4d}/{} Hypothesis: {} Cost: {:.6f}'.format(\n",
    "#             epoch, nb_epochs, batch_idx+1, len(dataloader), cost.item()))"
   ]
  },
  {
   "cell_type": "code",
   "execution_count": null,
   "id": "989e39c9",
   "metadata": {},
   "outputs": [],
   "source": []
  }
 ],
 "metadata": {
  "kernelspec": {
   "display_name": "Python 3 (ipykernel)",
   "language": "python",
   "name": "python3"
  },
  "language_info": {
   "codemirror_mode": {
    "name": "ipython",
    "version": 3
   },
   "file_extension": ".py",
   "mimetype": "text/x-python",
   "name": "python",
   "nbconvert_exporter": "python",
   "pygments_lexer": "ipython3",
   "version": "3.9.12"
  }
 },
 "nbformat": 4,
 "nbformat_minor": 5
}
