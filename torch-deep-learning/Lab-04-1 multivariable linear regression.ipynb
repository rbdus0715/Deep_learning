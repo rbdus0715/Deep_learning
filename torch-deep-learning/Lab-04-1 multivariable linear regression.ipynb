{
 "cells": [
  {
   "cell_type": "markdown",
   "id": "f0505595",
   "metadata": {},
   "source": [
    "# 다중 변수 선형 회귀"
   ]
  },
  {
   "cell_type": "code",
   "execution_count": 2,
   "id": "a007b30a",
   "metadata": {},
   "outputs": [],
   "source": [
    "import torch\n",
    "from torch import optim"
   ]
  },
  {
   "cell_type": "code",
   "execution_count": 15,
   "id": "3997f303",
   "metadata": {},
   "outputs": [],
   "source": [
    "x_train = torch.FloatTensor([\n",
    "    [73,80,75],\n",
    "    [93,88,93],\n",
    "    [89,91,90],\n",
    "    [96,98,100],\n",
    "    [73,66,70]\n",
    "])\n",
    "y_train = torch.FloatTensor([\n",
    "    [152],\n",
    "    [185],\n",
    "    [180],\n",
    "    [196],\n",
    "    [142]\n",
    "])"
   ]
  },
  {
   "cell_type": "code",
   "execution_count": 16,
   "id": "2c63df9c",
   "metadata": {},
   "outputs": [],
   "source": [
    "# H(x) 계산\n",
    "# w1x1 + w2x2 + w3x3 + b -> 변수가 많아지면 일일이 나열하기 힘들어짐\n",
    "# -> matmul 사용"
   ]
  },
  {
   "cell_type": "code",
   "execution_count": 17,
   "id": "2db1755d",
   "metadata": {},
   "outputs": [],
   "source": [
    "# 모델 초기화\n",
    "W = torch.zeros((3,1), requires_grad = True)\n",
    "b = torch.zeros(1, requires_grad = True)\n",
    "\n",
    "# optimizer 설정\n",
    "optimizer = optim.SGD([W,b], lr=1e-5)"
   ]
  },
  {
   "cell_type": "code",
   "execution_count": 18,
   "id": "aa990bd5",
   "metadata": {},
   "outputs": [
    {
     "name": "stdout",
     "output_type": "stream",
     "text": [
      "Epoch    0/20 Hypothesis: tensor([0., 0., 0., 0., 0.]) Cost: 29661.800781\n",
      "Epoch    1/20 Hypothesis: tensor([67.2578, 80.8397, 79.6523, 86.7394, 61.6605]) Cost: 9298.520508\n",
      "Epoch    2/20 Hypothesis: tensor([104.9128, 126.0990, 124.2466, 135.3015,  96.1821]) Cost: 2915.712891\n",
      "Epoch    3/20 Hypothesis: tensor([125.9942, 151.4381, 149.2133, 162.4896, 115.5097]) Cost: 915.040527\n",
      "Epoch    4/20 Hypothesis: tensor([137.7968, 165.6247, 163.1911, 177.7112, 126.3307]) Cost: 287.936005\n",
      "Epoch    5/20 Hypothesis: tensor([144.4044, 173.5674, 171.0168, 186.2332, 132.3891]) Cost: 91.371010\n",
      "Epoch    6/20 Hypothesis: tensor([148.1035, 178.0144, 175.3980, 191.0042, 135.7812]) Cost: 29.758139\n",
      "Epoch    7/20 Hypothesis: tensor([150.1744, 180.5042, 177.8508, 193.6753, 137.6805]) Cost: 10.445305\n",
      "Epoch    8/20 Hypothesis: tensor([151.3336, 181.8983, 179.2240, 195.1707, 138.7440]) Cost: 4.391228\n",
      "Epoch    9/20 Hypothesis: tensor([151.9824, 182.6789, 179.9928, 196.0079, 139.3396]) Cost: 2.493135\n",
      "Epoch   10/20 Hypothesis: tensor([152.3454, 183.1161, 180.4231, 196.4765, 139.6732]) Cost: 1.897688\n",
      "Epoch   11/20 Hypothesis: tensor([152.5485, 183.3610, 180.6640, 196.7389, 139.8602]) Cost: 1.710541\n",
      "Epoch   12/20 Hypothesis: tensor([152.6620, 183.4982, 180.7988, 196.8857, 139.9651]) Cost: 1.651412\n",
      "Epoch   13/20 Hypothesis: tensor([152.7253, 183.5752, 180.8742, 196.9678, 140.0240]) Cost: 1.632387\n",
      "Epoch   14/20 Hypothesis: tensor([152.7606, 183.6184, 180.9164, 197.0138, 140.0571]) Cost: 1.625923\n",
      "Epoch   15/20 Hypothesis: tensor([152.7802, 183.6427, 180.9399, 197.0395, 140.0759]) Cost: 1.623412\n",
      "Epoch   16/20 Hypothesis: tensor([152.7909, 183.6565, 180.9530, 197.0538, 140.0865]) Cost: 1.622141\n",
      "Epoch   17/20 Hypothesis: tensor([152.7968, 183.6643, 180.9603, 197.0618, 140.0927]) Cost: 1.621253\n",
      "Epoch   18/20 Hypothesis: tensor([152.7999, 183.6688, 180.9644, 197.0662, 140.0963]) Cost: 1.620500\n",
      "Epoch   19/20 Hypothesis: tensor([152.8014, 183.6715, 180.9666, 197.0686, 140.0985]) Cost: 1.619770\n",
      "Epoch   20/20 Hypothesis: tensor([152.8020, 183.6731, 180.9677, 197.0699, 140.1000]) Cost: 1.619033\n"
     ]
    }
   ],
   "source": [
    "nb_epochs = 20\n",
    "for epoch in range(nb_epochs + 1):\n",
    "    \n",
    "    # H(x) 계산\n",
    "    hypothesis = x_train.matmul(W) + b # 5*3 x 3*1 -> 5*1\n",
    "    \n",
    "    # cost 계산\n",
    "    cost = torch.mean((hypothesis - y_train)**2)\n",
    "    \n",
    "    # cost로 H(x) 계산\n",
    "    optimizer.zero_grad()\n",
    "    cost.backward()\n",
    "    optimizer.step()\n",
    "    \n",
    "    print('Epoch {:4d}/{} Hypothesis: {} Cost: {:.6f}'.format(\n",
    "        epoch, nb_epochs, hypothesis.squeeze().detach(), cost.item()))"
   ]
  },
  {
   "cell_type": "markdown",
   "id": "2a0818c4",
   "metadata": {},
   "source": [
    "# nn.Module 을 이용해서 쉽게 코딩하기"
   ]
  },
  {
   "cell_type": "code",
   "execution_count": 3,
   "id": "a1da5169",
   "metadata": {},
   "outputs": [],
   "source": [
    "import torch.nn as nn\n",
    "\n",
    "# nn.Module을 상속해서 모델 생성\n",
    "# nn.Linear(3,1) -> 입력차원 3, 출력차원 1 \n",
    "# hypothesis 계산은 forward()에서\n",
    "# gradient 계산은 pytorch가 알아서 해준다 backward()\n",
    "\n",
    "class MultivariateLinearRegressionModel(nn.Module):\n",
    "    def __init__(self):\n",
    "        super().__init__()\n",
    "        self.linear = nn.Linear(3,1)\n",
    "        \n",
    "    def forward(self, x):\n",
    "        return self.linear(x)\n",
    "    \n",
    "#hypothesis = model(x_train)"
   ]
  },
  {
   "cell_type": "markdown",
   "id": "7ea3e8a7",
   "metadata": {},
   "source": [
    "# F.mse_loss로 쉽게 코딩하기"
   ]
  },
  {
   "cell_type": "code",
   "execution_count": 4,
   "id": "e0da681e",
   "metadata": {},
   "outputs": [],
   "source": [
    "import torch.nn.functional as F\n",
    "\n",
    "#cost = F.mse_loss(prediction, y_train)"
   ]
  },
  {
   "cell_type": "markdown",
   "id": "0b0af210",
   "metadata": {},
   "source": [
    "# 전체 코드"
   ]
  },
  {
   "cell_type": "code",
   "execution_count": 7,
   "id": "239bcfe2",
   "metadata": {},
   "outputs": [],
   "source": [
    "# 데이터\n",
    "x_train = torch.FloatTensor([\n",
    "    [73,80,75],\n",
    "    [93,88,93],\n",
    "    [89,91,90],\n",
    "    [96,98,100],\n",
    "    [73,66,70]\n",
    "])\n",
    "y_train = torch.FloatTensor([\n",
    "    [152],\n",
    "    [185],\n",
    "    [180],\n",
    "    [196],\n",
    "    [142]\n",
    "])\n",
    "\n",
    "# 모델 초기화\n",
    "model = MultivariateLinearRegressionModel()\n",
    "\n",
    "# optimizer 설정\n",
    "optimizer = optim.SGD(model.parameters(), lr=1e-5)"
   ]
  },
  {
   "cell_type": "code",
   "execution_count": 10,
   "id": "8c73673c",
   "metadata": {},
   "outputs": [
    {
     "name": "stdout",
     "output_type": "stream",
     "text": [
      "Epoch    0/20 Hypothesis: tensor([29.2397, 36.6020, 35.3246, 38.1849, 28.5397]) Cost: 19160.373047\n",
      "Epoch    1/20 Hypothesis: tensor([ 83.2969, 101.5751,  99.3436, 107.9000,  78.0980]) Cost: 6006.074219\n",
      "Epoch    2/20 Hypothesis: tensor([113.5615, 137.9512, 135.1854, 146.9308, 105.8439]) Cost: 1882.900024\n",
      "Epoch    3/20 Hypothesis: tensor([130.5055, 158.3169, 155.2519, 168.7828, 121.3779]) Cost: 590.503540\n",
      "Epoch    4/20 Hypothesis: tensor([139.9917, 169.7190, 166.4864, 181.0168, 130.0749]) Cost: 185.406219\n",
      "Epoch    5/20 Hypothesis: tensor([145.3026, 176.1027, 172.7761, 187.8662, 134.9441]) Cost: 58.429443\n",
      "Epoch    6/20 Hypothesis: tensor([148.2758, 179.6767, 176.2975, 191.7009, 137.6702]) Cost: 18.628864\n",
      "Epoch    7/20 Hypothesis: tensor([149.9404, 181.6777, 178.2690, 193.8478, 139.1966]) Cost: 6.153353\n",
      "Epoch    8/20 Hypothesis: tensor([150.8722, 182.7981, 179.3727, 195.0498, 140.0512]) Cost: 2.242903\n",
      "Epoch    9/20 Hypothesis: tensor([151.3939, 183.4254, 179.9906, 195.7226, 140.5298]) Cost: 1.017061\n",
      "Epoch   10/20 Hypothesis: tensor([151.6858, 183.7767, 180.3365, 196.0994, 140.7978]) Cost: 0.632733\n",
      "Epoch   11/20 Hypothesis: tensor([151.8492, 183.9734, 180.5301, 196.3102, 140.9479]) Cost: 0.512185\n",
      "Epoch   12/20 Hypothesis: tensor([151.9406, 184.0836, 180.6385, 196.4283, 141.0320]) Cost: 0.474293\n",
      "Epoch   13/20 Hypothesis: tensor([151.9917, 184.1453, 180.6992, 196.4943, 141.0792]) Cost: 0.462325\n",
      "Epoch   14/20 Hypothesis: tensor([152.0202, 184.1799, 180.7331, 196.5313, 141.1057]) Cost: 0.458477\n",
      "Epoch   15/20 Hypothesis: tensor([152.0360, 184.1994, 180.7521, 196.5520, 141.1206]) Cost: 0.457183\n",
      "Epoch   16/20 Hypothesis: tensor([152.0448, 184.2103, 180.7627, 196.5635, 141.1291]) Cost: 0.456687\n",
      "Epoch   17/20 Hypothesis: tensor([152.0497, 184.2165, 180.7686, 196.5700, 141.1339]) Cost: 0.456428\n",
      "Epoch   18/20 Hypothesis: tensor([152.0523, 184.2200, 180.7719, 196.5736, 141.1366]) Cost: 0.456260\n",
      "Epoch   19/20 Hypothesis: tensor([152.0537, 184.2221, 180.7737, 196.5756, 141.1383]) Cost: 0.456113\n",
      "Epoch   20/20 Hypothesis: tensor([152.0544, 184.2233, 180.7747, 196.5767, 141.1393]) Cost: 0.455978\n"
     ]
    }
   ],
   "source": [
    "nb_epochs = 20\n",
    "for epoch in range(nb_epochs + 1):\n",
    "    \n",
    "    # H(x) 계산\n",
    "    prediction = model(x_train)\n",
    "    \n",
    "    # cost 계산\n",
    "    cost = F.mse_loss(prediction, y_train) # F를 이용해서 cost를 구함\n",
    "    \n",
    "    # cost로 H(x) 계산\n",
    "    optimizer.zero_grad()\n",
    "    cost.backward()\n",
    "    optimizer.step()\n",
    "    \n",
    "    print('Epoch {:4d}/{} Hypothesis: {} Cost: {:.6f}'.format(\n",
    "        epoch, nb_epochs, prediction.squeeze().detach(), cost.item()))"
   ]
  },
  {
   "cell_type": "code",
   "execution_count": null,
   "id": "a85891c7",
   "metadata": {},
   "outputs": [],
   "source": []
  },
  {
   "cell_type": "code",
   "execution_count": null,
   "id": "98044273",
   "metadata": {},
   "outputs": [],
   "source": []
  }
 ],
 "metadata": {
  "kernelspec": {
   "display_name": "Python 3 (ipykernel)",
   "language": "python",
   "name": "python3"
  },
  "language_info": {
   "codemirror_mode": {
    "name": "ipython",
    "version": 3
   },
   "file_extension": ".py",
   "mimetype": "text/x-python",
   "name": "python",
   "nbconvert_exporter": "python",
   "pygments_lexer": "ipython3",
   "version": "3.9.12"
  }
 },
 "nbformat": 4,
 "nbformat_minor": 5
}
