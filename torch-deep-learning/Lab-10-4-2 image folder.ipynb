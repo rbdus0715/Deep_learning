{
 "cells": [
  {
   "cell_type": "code",
   "execution_count": 1,
   "id": "272fc6cb",
   "metadata": {},
   "outputs": [],
   "source": [
    "import torch\n",
    "import torch.nn as nn\n",
    "import torch.nn.functional as F\n",
    "\n",
    "import torch.optim as optim\n",
    "from torch.utils.data import DataLoader\n",
    "\n",
    "import torchvision\n",
    "import torchvision.transforms as transforms"
   ]
  },
  {
   "cell_type": "code",
   "execution_count": 2,
   "id": "a22f9edc",
   "metadata": {},
   "outputs": [],
   "source": [
    "device = 'cuda' if torch.cuda.is_available() else 'cpu'\n",
    "\n",
    "torch.manual_seed(777)\n",
    "if device =='cuda':\n",
    "    torch.cuda.manual_seed_all(777)\n",
    "trans = transforms.Compose([\n",
    "    transforms.ToTensor()\n",
    "])\n",
    "\n",
    "train_data = torchvision.datasets.ImageFolder(root='./custom_data/train_data', transform=trans)\n",
    "data_loader = DataLoader(dataset = train_data, batch_size = 8, shuffle = True, num_workers=2)"
   ]
  },
  {
   "cell_type": "code",
   "execution_count": 3,
   "id": "bb061024",
   "metadata": {},
   "outputs": [],
   "source": [
    "class CNN(nn.Module):\n",
    "    def __init__(self):\n",
    "        super(CNN, self).__init__()\n",
    "        self.layer1 = nn.Sequential(\n",
    "            nn.Conv2d(3,6,5),\n",
    "            nn.ReLU(),\n",
    "            nn.MaxPool2d(2),\n",
    "        )\n",
    "        self.layer2 = nn.Sequential(\n",
    "            nn.Conv2d(6,16,5),\n",
    "            nn.ReLU(),\n",
    "            nn.MaxPool2d(2),\n",
    "        )\n",
    "        self.layer3 = nn.Sequential(\n",
    "            nn.Linear(16*13*29, 120),\n",
    "            nn.ReLU(),\n",
    "            nn.Linear(120,2)\n",
    "        )\n",
    "        \n",
    "    def forward(self, x):\n",
    "        out = self.layer1(x)\n",
    "        out = self.layer2(out)\n",
    "        out = out.view(out.shape[0], -1)\n",
    "        out = self.layer3(out)\n",
    "        return out"
   ]
  },
  {
   "cell_type": "code",
   "execution_count": 4,
   "id": "5ec208d5",
   "metadata": {},
   "outputs": [],
   "source": [
    "#testing \n",
    "net = CNN().to(device)\n",
    "test_input = (torch.Tensor(3,3,64,128)).to(device)\n",
    "test_out = net(test_input)"
   ]
  },
  {
   "cell_type": "code",
   "execution_count": 5,
   "id": "225b5947",
   "metadata": {},
   "outputs": [
    {
     "name": "stdout",
     "output_type": "stream",
     "text": [
      "[Epoch:1] cost = 0.6415272951126099\n",
      "[Epoch:2] cost = 0.4358808696269989\n",
      "[Epoch:3] cost = 0.15191176533699036\n",
      "[Epoch:4] cost = 0.044770803302526474\n",
      "[Epoch:5] cost = 0.019845163449645042\n",
      "[Epoch:6] cost = 0.011895479634404182\n",
      "[Epoch:7] cost = 0.007402573712170124\n",
      "Learning Finished!\n"
     ]
    }
   ],
   "source": [
    "optimizer = optim.Adam(net.parameters(), lr=0.00005)\n",
    "loss_func = nn.CrossEntropyLoss().to(device)\n",
    "\n",
    "total_batch = len(data_loader)\n",
    "epochs = 7\n",
    "for epoch in range(epochs):\n",
    "    avg_cost = 0.0\n",
    "    for num, data in enumerate(data_loader):\n",
    "        imgs, labels = data\n",
    "        imgs = imgs.to(device)\n",
    "        labels = labels.to(device)\n",
    "        optimizer.zero_grad()\n",
    "        out = net(imgs)\n",
    "        loss = loss_func(out, labels)\n",
    "        loss.backward()\n",
    "        optimizer.step()\n",
    "        \n",
    "        avg_cost += loss / total_batch\n",
    "        \n",
    "    print('[Epoch:{}] cost = {}'.format(epoch+1, avg_cost))\n",
    "print('Learning Finished!')   "
   ]
  },
  {
   "cell_type": "markdown",
   "id": "a45f08b6",
   "metadata": {},
   "source": [
    "# 모델 저장해놓기\n",
    "- 할 때마다 학습시킬 수는 없기 때문\n",
    "- PyTorch 모델을 저장하는 방법 및 고려해야할 점 https://eehoeskrap.tistory.com/618"
   ]
  },
  {
   "cell_type": "code",
   "execution_count": 18,
   "id": "d03bb6c9",
   "metadata": {},
   "outputs": [
    {
     "data": {
      "text/plain": [
       "<All keys matched successfully>"
      ]
     },
     "execution_count": 18,
     "metadata": {},
     "output_type": "execute_result"
    }
   ],
   "source": [
    "torch.save(net.state_dict(), \"./model/model.pth\")\n",
    "new_net = CNN().to(device)\n",
    "new_net.load_state_dict(torch.load('./model/model.pth'))"
   ]
  },
  {
   "cell_type": "code",
   "execution_count": 19,
   "id": "fc23fe82",
   "metadata": {},
   "outputs": [
    {
     "name": "stdout",
     "output_type": "stream",
     "text": [
      "Conv2d(3, 6, kernel_size=(5, 5), stride=(1, 1))\n",
      "Conv2d(3, 6, kernel_size=(5, 5), stride=(1, 1))\n",
      "tensor([-0.0922,  0.0023, -0.0180, -0.0221,  0.0922], grad_fn=<SelectBackward>)\n",
      "tensor([-0.0922,  0.0023, -0.0180, -0.0221,  0.0922], grad_fn=<SelectBackward>)\n"
     ]
    },
    {
     "data": {
      "text/plain": [
       "tensor([[[True, True, True, True, True],\n",
       "         [True, True, True, True, True],\n",
       "         [True, True, True, True, True],\n",
       "         [True, True, True, True, True],\n",
       "         [True, True, True, True, True]],\n",
       "\n",
       "        [[True, True, True, True, True],\n",
       "         [True, True, True, True, True],\n",
       "         [True, True, True, True, True],\n",
       "         [True, True, True, True, True],\n",
       "         [True, True, True, True, True]],\n",
       "\n",
       "        [[True, True, True, True, True],\n",
       "         [True, True, True, True, True],\n",
       "         [True, True, True, True, True],\n",
       "         [True, True, True, True, True],\n",
       "         [True, True, True, True, True]]])"
      ]
     },
     "execution_count": 19,
     "metadata": {},
     "output_type": "execute_result"
    }
   ],
   "source": [
    "print(net.layer1[0])\n",
    "print(new_net.layer1[0])\n",
    "\n",
    "print(net.layer1[0].weight[0][0][0])\n",
    "print(new_net.layer1[0].weight[0][0][0])\n",
    "\n",
    "net.layer1[0].weight[0] == new_net.layer1[0].weight[0]"
   ]
  },
  {
   "cell_type": "code",
   "execution_count": 20,
   "id": "8ce24444",
   "metadata": {},
   "outputs": [],
   "source": [
    "trans=torchvision.transforms.Compose([\n",
    "    transforms.Resize((64,128)),\n",
    "    transforms.ToTensor()\n",
    "])\n",
    "test_data = torchvision.datasets.ImageFolder(root='./custom_data/test_data', transform=trans)\n",
    "test_set = DataLoader(dataset = test_data, batch_size = len(test_data))"
   ]
  },
  {
   "cell_type": "code",
   "execution_count": 21,
   "id": "35485fc6",
   "metadata": {},
   "outputs": [
    {
     "name": "stdout",
     "output_type": "stream",
     "text": [
      "Accuracy: 1.0\n"
     ]
    }
   ],
   "source": [
    "with torch.no_grad():\n",
    "    for num, data in enumerate(test_set):\n",
    "        imgs, label = data\n",
    "        imgs = imgs.to(device)\n",
    "        label = label.to(device)\n",
    "        \n",
    "        prediction = net(imgs)\n",
    "        \n",
    "        correct_prediction = torch.argmax(prediction, 1) == label\n",
    "        \n",
    "        accuracy = correct_prediction.float().mean()\n",
    "        print('Accuracy:', accuracy.item())"
   ]
  }
 ],
 "metadata": {
  "kernelspec": {
   "display_name": "Python 3 (ipykernel)",
   "language": "python",
   "name": "python3"
  },
  "language_info": {
   "codemirror_mode": {
    "name": "ipython",
    "version": 3
   },
   "file_extension": ".py",
   "mimetype": "text/x-python",
   "name": "python",
   "nbconvert_exporter": "python",
   "pygments_lexer": "ipython3",
   "version": "3.9.12"
  }
 },
 "nbformat": 4,
 "nbformat_minor": 5
}
