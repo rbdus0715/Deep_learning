{
 "cells": [
  {
   "cell_type": "code",
   "execution_count": 36,
   "id": "22249550",
   "metadata": {},
   "outputs": [],
   "source": [
    "# 목차\n",
    "# 1. MLE\n",
    "# 2. overfitting 방지 - dataset을 나눠서 사용\n",
    "# 3. learning rate 조절\n",
    "# 4. data 전처리\n",
    "# 5. regularization"
   ]
  },
  {
   "cell_type": "markdown",
   "id": "6786baca",
   "metadata": {},
   "source": [
    "# Maximum Likelihood Estimation (MLE)"
   ]
  },
  {
   "cell_type": "code",
   "execution_count": 42,
   "id": "7ab00b00",
   "metadata": {},
   "outputs": [],
   "source": [
    "# 베르누이 공식을 통해\n",
    "# GD를 통해서 수행\n",
    "# but 과적합이 잘 일어남"
   ]
  },
  {
   "cell_type": "markdown",
   "id": "105b2974",
   "metadata": {},
   "source": [
    "# Overfitting 방지하기"
   ]
  },
  {
   "cell_type": "code",
   "execution_count": 43,
   "id": "6ad0d8fd",
   "metadata": {},
   "outputs": [],
   "source": [
    "# training set / dev set / test set\n",
    "# 0.8 / 0~0.1 / 0.1~0.2"
   ]
  },
  {
   "cell_type": "code",
   "execution_count": 35,
   "id": "71e2a54c",
   "metadata": {},
   "outputs": [],
   "source": [
    "# 수도코드\n",
    "# 1. 도구 준비\n",
    "# 2. 피쳐/레이블 데이터 준비 , test용 피쳐/레이블 데이터 준비\n",
    "# 3. 학습 모델 만들기 (클래스)\n",
    "# 4. optimizer 설정\n",
    "# 5. train , test 함수 만들기\n",
    "\n",
    "# train 함수(모델, optimizer, 피쳐, 레이블):\n",
    "#     epoch 동안 학습\n",
    "# test 함수(모델, optimizer, test용 데이터):\n",
    "#     예측 = model(x_test)\n",
    "#     예측된 클래스 = 예측 값에서 가장 큰 인덱스 (클래스)\n",
    "#     평가 지표 : correct_count = (예측된 클래스 == y_test).sum().item()\n",
    "#             correct_count / len(y_test) * 100, cost.item()"
   ]
  },
  {
   "cell_type": "code",
   "execution_count": 1,
   "id": "10f0a9a7",
   "metadata": {},
   "outputs": [],
   "source": [
    "import torch\n",
    "import torch.nn as nn\n",
    "import torch.nn.functional as F\n",
    "import torch.optim as optim"
   ]
  },
  {
   "cell_type": "code",
   "execution_count": 2,
   "id": "7640013c",
   "metadata": {},
   "outputs": [
    {
     "data": {
      "text/plain": [
       "<torch._C.Generator at 0x7f8621d5dd30>"
      ]
     },
     "execution_count": 2,
     "metadata": {},
     "output_type": "execute_result"
    }
   ],
   "source": [
    "torch.manual_seed(1)"
   ]
  },
  {
   "cell_type": "code",
   "execution_count": 3,
   "id": "b57b3d60",
   "metadata": {},
   "outputs": [],
   "source": [
    "x_train = torch.FloatTensor([\n",
    "    [1,2,1],\n",
    "    [1,3,2],\n",
    "    [1,3,4],\n",
    "    [1,5,5],\n",
    "    [1,7,5],\n",
    "    [1,2,5],\n",
    "    [1,6,6],\n",
    "    [1,7,7]\n",
    "])\n",
    "y_train = torch.LongTensor([2,2,2,1,1,1,0,0])"
   ]
  },
  {
   "cell_type": "code",
   "execution_count": 12,
   "id": "75f6a91e",
   "metadata": {},
   "outputs": [],
   "source": [
    "x_test = torch.FloatTensor([[2,1,1],[3,1,2],[3,3,4]])\n",
    "y_test = torch.LongTensor([2,2,2])"
   ]
  },
  {
   "cell_type": "code",
   "execution_count": 13,
   "id": "cf29ff92",
   "metadata": {},
   "outputs": [],
   "source": [
    "class SoftmaxClassifierModel(nn.Module): \n",
    "    def __init__(self):\n",
    "        super().__init__()\n",
    "        self.linear = nn.Linear(3,3)\n",
    "    def forward(self, x):\n",
    "        return self.linear(x)"
   ]
  },
  {
   "cell_type": "code",
   "execution_count": 14,
   "id": "20d5c483",
   "metadata": {},
   "outputs": [],
   "source": [
    "model = SoftmaxClassifierModel()"
   ]
  },
  {
   "cell_type": "code",
   "execution_count": 15,
   "id": "0d1b5a3f",
   "metadata": {},
   "outputs": [],
   "source": [
    "# optimizer 설정\n",
    "optimizer = optim.SGD(model.parameters(), lr=0.1)"
   ]
  },
  {
   "cell_type": "code",
   "execution_count": 16,
   "id": "ebbadfde",
   "metadata": {},
   "outputs": [],
   "source": [
    "def train(model, optimizer, x_train, y_train):\n",
    "    nb_epochs = 20\n",
    "    for epoch in range(nb_epochs):\n",
    "        # H(x) 계산\n",
    "        prediction = model(x_train)\n",
    "        # cost 계산\n",
    "        cost = F.cross_entropy(prediction, y_train)\n",
    "        # cost로 H(x) 개선\n",
    "        optimizer.zero_grad()\n",
    "        cost.backward()\n",
    "        optimizer.step()\n",
    "        print(\"Epoch {:4d}/{} Cost: {:.6f}\".format(\n",
    "            epoch, nb_epochs, cost.item()\n",
    "        ))"
   ]
  },
  {
   "cell_type": "code",
   "execution_count": 32,
   "id": "8d14f624",
   "metadata": {},
   "outputs": [],
   "source": [
    "def test(model, optimizer, x_test, y_test):\n",
    "    prediction = model(x_test)\n",
    "    predicted_classes = prediction.max(1)[1]\n",
    "    # .max(1) : 2번째 차원에 대해서 return 값 : max 값 / 각각의 인덱스 값\n",
    "    # [1]을 통해서 최대인 값의 인덱스 값을 가져오는 것\n",
    "    correct_count = (predicted_classes == y_test).sum().item()\n",
    "    cost = F.cross_entropy(prediction, y_test)\n",
    "    \n",
    "    print(\"Accuracy: {}% Cost: {:.6f}\".format(\n",
    "        correct_count / len(y_test) * 100, cost.item()\n",
    "    ))"
   ]
  },
  {
   "cell_type": "code",
   "execution_count": 33,
   "id": "ee3a844e",
   "metadata": {},
   "outputs": [
    {
     "name": "stdout",
     "output_type": "stream",
     "text": [
      "Epoch    0/20 Cost: 0.692775\n",
      "Epoch    1/20 Cost: 0.691335\n",
      "Epoch    2/20 Cost: 0.689910\n",
      "Epoch    3/20 Cost: 0.688499\n",
      "Epoch    4/20 Cost: 0.687102\n",
      "Epoch    5/20 Cost: 0.685718\n",
      "Epoch    6/20 Cost: 0.684347\n",
      "Epoch    7/20 Cost: 0.682989\n",
      "Epoch    8/20 Cost: 0.681645\n",
      "Epoch    9/20 Cost: 0.680312\n",
      "Epoch   10/20 Cost: 0.678993\n",
      "Epoch   11/20 Cost: 0.677685\n",
      "Epoch   12/20 Cost: 0.676389\n",
      "Epoch   13/20 Cost: 0.675106\n",
      "Epoch   14/20 Cost: 0.673833\n",
      "Epoch   15/20 Cost: 0.672573\n",
      "Epoch   16/20 Cost: 0.671323\n",
      "Epoch   17/20 Cost: 0.670085\n",
      "Epoch   18/20 Cost: 0.668857\n",
      "Epoch   19/20 Cost: 0.667640\n"
     ]
    }
   ],
   "source": [
    "train(model, optimizer, x_train, y_train)"
   ]
  },
  {
   "cell_type": "code",
   "execution_count": 34,
   "id": "86a63f66",
   "metadata": {},
   "outputs": [
    {
     "name": "stdout",
     "output_type": "stream",
     "text": [
      "Accuracy: 100.0% Cost: 0.031177\n"
     ]
    }
   ],
   "source": [
    "test(model, optimizer, x_test, y_test)"
   ]
  },
  {
   "cell_type": "markdown",
   "id": "737f39a7",
   "metadata": {},
   "source": [
    "# Learning Rate 조절\n",
    "- 너무 클때\n",
    "- 너무 작을때\n",
    "- 조절"
   ]
  },
  {
   "cell_type": "code",
   "execution_count": 55,
   "id": "9690d202",
   "metadata": {},
   "outputs": [],
   "source": [
    "model = SoftmaxClassifierModel()"
   ]
  },
  {
   "cell_type": "code",
   "execution_count": 56,
   "id": "be28c626",
   "metadata": {},
   "outputs": [],
   "source": [
    "optimizer = optim.SGD(model.parameters(), lr=1e5) # 너무 클때"
   ]
  },
  {
   "cell_type": "code",
   "execution_count": 57,
   "id": "a8179731",
   "metadata": {},
   "outputs": [
    {
     "name": "stdout",
     "output_type": "stream",
     "text": [
      "Epoch    0/20 Cost: 1.280268\n",
      "Epoch    1/20 Cost: 976950.750000\n",
      "Epoch    2/20 Cost: 1279135.125000\n",
      "Epoch    3/20 Cost: 1198379.000000\n",
      "Epoch    4/20 Cost: 1098825.750000\n",
      "Epoch    5/20 Cost: 1968197.625000\n",
      "Epoch    6/20 Cost: 284763.250000\n",
      "Epoch    7/20 Cost: 1532260.125000\n",
      "Epoch    8/20 Cost: 1651503.875000\n",
      "Epoch    9/20 Cost: 521878.437500\n",
      "Epoch   10/20 Cost: 1397263.250000\n",
      "Epoch   11/20 Cost: 750986.250000\n",
      "Epoch   12/20 Cost: 918691.562500\n",
      "Epoch   13/20 Cost: 1487888.250000\n",
      "Epoch   14/20 Cost: 1582260.125000\n",
      "Epoch   15/20 Cost: 685818.062500\n",
      "Epoch   16/20 Cost: 1140048.750000\n",
      "Epoch   17/20 Cost: 940566.562500\n",
      "Epoch   18/20 Cost: 931638.250000\n",
      "Epoch   19/20 Cost: 1971322.625000\n"
     ]
    }
   ],
   "source": [
    "train(model, optimizer, x_train, y_train)"
   ]
  },
  {
   "cell_type": "code",
   "execution_count": 62,
   "id": "48ef144a",
   "metadata": {},
   "outputs": [],
   "source": [
    "model = SoftmaxClassifierModel()"
   ]
  },
  {
   "cell_type": "code",
   "execution_count": 63,
   "id": "581e9f00",
   "metadata": {},
   "outputs": [],
   "source": [
    "optimizer = optim.SGD(model.parameters(), lr=1e-10) # 너무 작을때"
   ]
  },
  {
   "cell_type": "code",
   "execution_count": 64,
   "id": "f8956cb1",
   "metadata": {},
   "outputs": [
    {
     "name": "stdout",
     "output_type": "stream",
     "text": [
      "Epoch    0/20 Cost: 3.187324\n",
      "Epoch    1/20 Cost: 3.187324\n",
      "Epoch    2/20 Cost: 3.187324\n",
      "Epoch    3/20 Cost: 3.187324\n",
      "Epoch    4/20 Cost: 3.187324\n",
      "Epoch    5/20 Cost: 3.187324\n",
      "Epoch    6/20 Cost: 3.187324\n",
      "Epoch    7/20 Cost: 3.187324\n",
      "Epoch    8/20 Cost: 3.187324\n",
      "Epoch    9/20 Cost: 3.187324\n",
      "Epoch   10/20 Cost: 3.187324\n",
      "Epoch   11/20 Cost: 3.187324\n",
      "Epoch   12/20 Cost: 3.187324\n",
      "Epoch   13/20 Cost: 3.187324\n",
      "Epoch   14/20 Cost: 3.187324\n",
      "Epoch   15/20 Cost: 3.187324\n",
      "Epoch   16/20 Cost: 3.187324\n",
      "Epoch   17/20 Cost: 3.187324\n",
      "Epoch   18/20 Cost: 3.187324\n",
      "Epoch   19/20 Cost: 3.187324\n"
     ]
    }
   ],
   "source": [
    "train(model, optimizer, x_train, y_train)"
   ]
  },
  {
   "cell_type": "code",
   "execution_count": 65,
   "id": "1f5bcc94",
   "metadata": {},
   "outputs": [],
   "source": [
    "model = SoftmaxClassifierModel()"
   ]
  },
  {
   "cell_type": "code",
   "execution_count": 66,
   "id": "d0cc2dcf",
   "metadata": {},
   "outputs": [],
   "source": [
    "optimizer = optim.SGD(model.parameters(), lr=0.1) # 조절"
   ]
  },
  {
   "cell_type": "code",
   "execution_count": 67,
   "id": "95356081",
   "metadata": {},
   "outputs": [
    {
     "name": "stdout",
     "output_type": "stream",
     "text": [
      "Epoch    0/20 Cost: 1.341574\n",
      "Epoch    1/20 Cost: 1.198802\n",
      "Epoch    2/20 Cost: 1.150877\n",
      "Epoch    3/20 Cost: 1.131977\n",
      "Epoch    4/20 Cost: 1.116242\n",
      "Epoch    5/20 Cost: 1.102514\n",
      "Epoch    6/20 Cost: 1.089676\n",
      "Epoch    7/20 Cost: 1.077479\n",
      "Epoch    8/20 Cost: 1.065775\n",
      "Epoch    9/20 Cost: 1.054511\n",
      "Epoch   10/20 Cost: 1.043655\n",
      "Epoch   11/20 Cost: 1.033187\n",
      "Epoch   12/20 Cost: 1.023091\n",
      "Epoch   13/20 Cost: 1.013356\n",
      "Epoch   14/20 Cost: 1.003968\n",
      "Epoch   15/20 Cost: 0.994917\n",
      "Epoch   16/20 Cost: 0.986189\n",
      "Epoch   17/20 Cost: 0.977775\n",
      "Epoch   18/20 Cost: 0.969661\n",
      "Epoch   19/20 Cost: 0.961836\n"
     ]
    }
   ],
   "source": [
    "train(model, optimizer, x_train, y_train)"
   ]
  },
  {
   "cell_type": "markdown",
   "id": "5d9a8e29",
   "metadata": {},
   "source": [
    "# Data Preprocessing\n",
    "- standardization (정규분포)"
   ]
  },
  {
   "cell_type": "code",
   "execution_count": 45,
   "id": "a28e7ce7",
   "metadata": {},
   "outputs": [],
   "source": [
    "x_train = torch.FloatTensor([\n",
    "    [73,80,75],\n",
    "    [93,88,93],\n",
    "    [89,91,90],\n",
    "    [96,98,100],\n",
    "    [73,66,70]\n",
    "])\n",
    "y_train = torch.FloatTensor([[152],[185],[180],[196],[142]])"
   ]
  },
  {
   "cell_type": "code",
   "execution_count": 46,
   "id": "1aee7c5a",
   "metadata": {},
   "outputs": [],
   "source": [
    "# 정규분포를 따르도록 만들기\n",
    "mu = x_train.mean(dim=0)\n",
    "sigma = x_train.std(dim=0)\n",
    "norm_x_train = (x_train - mu) / sigma"
   ]
  },
  {
   "cell_type": "code",
   "execution_count": 47,
   "id": "c7f4ea91",
   "metadata": {},
   "outputs": [
    {
     "name": "stdout",
     "output_type": "stream",
     "text": [
      "tensor([[-1.0674, -0.3758, -0.8398],\n",
      "        [ 0.7418,  0.2778,  0.5863],\n",
      "        [ 0.3799,  0.5229,  0.3486],\n",
      "        [ 1.0132,  1.0948,  1.1409],\n",
      "        [-1.0674, -1.5197, -1.2360]])\n"
     ]
    }
   ],
   "source": [
    "print(norm_x_train)\n",
    "# ~N(0,1)"
   ]
  },
  {
   "cell_type": "code",
   "execution_count": 48,
   "id": "18182b4d",
   "metadata": {},
   "outputs": [],
   "source": [
    "class MultivariateLinearRegressionModel(nn.Module):\n",
    "    def __init__(self):\n",
    "        super().__init__()\n",
    "        self.linear = nn.Linear(3,1)\n",
    "    def forward(self, x):\n",
    "        return self.linear(x)"
   ]
  },
  {
   "cell_type": "code",
   "execution_count": 49,
   "id": "033898d1",
   "metadata": {},
   "outputs": [],
   "source": [
    "model = MultivariateLinearRegressionModel()\n",
    "optimizer = optim.SGD(model.parameters(), lr=1e-1)"
   ]
  },
  {
   "cell_type": "code",
   "execution_count": 50,
   "id": "5b9e2ef8",
   "metadata": {},
   "outputs": [],
   "source": [
    "def train(model, optimizer, x_train, y_train):\n",
    "    nb_epochs = 20\n",
    "    for epoch in range(nb_epochs):\n",
    "        # H(x) 계산\n",
    "        prediction = model(x_train)\n",
    "        # cost 계산\n",
    "        cost = F.mse_loss(prediction, y_train)\n",
    "        # cost로 H(x) 개선\n",
    "        optimizer.zero_grad()\n",
    "        cost.backward()\n",
    "        optimizer.step()\n",
    "        print(\"Epoch {:4d}/{} Cost: {:.6f}\".format(\n",
    "            epoch, nb_epochs, cost.item()\n",
    "        ))"
   ]
  },
  {
   "cell_type": "code",
   "execution_count": 51,
   "id": "bcd039c8",
   "metadata": {},
   "outputs": [
    {
     "name": "stdout",
     "output_type": "stream",
     "text": [
      "Epoch    0/20 Cost: 29476.849609\n",
      "Epoch    1/20 Cost: 18718.511719\n",
      "Epoch    2/20 Cost: 11937.442383\n",
      "Epoch    3/20 Cost: 7627.894531\n",
      "Epoch    4/20 Cost: 4878.605469\n",
      "Epoch    5/20 Cost: 3121.619141\n",
      "Epoch    6/20 Cost: 1997.883789\n",
      "Epoch    7/20 Cost: 1278.898926\n",
      "Epoch    8/20 Cost: 818.800415\n",
      "Epoch    9/20 Cost: 524.344238\n",
      "Epoch   10/20 Cost: 335.887390\n",
      "Epoch   11/20 Cost: 215.266602\n",
      "Epoch   12/20 Cost: 138.059769\n",
      "Epoch   13/20 Cost: 88.637863\n",
      "Epoch   14/20 Cost: 56.998798\n",
      "Epoch   15/20 Cost: 36.740959\n",
      "Epoch   16/20 Cost: 23.767536\n",
      "Epoch   17/20 Cost: 15.456335\n",
      "Epoch   18/20 Cost: 10.129328\n",
      "Epoch   19/20 Cost: 6.712480\n"
     ]
    }
   ],
   "source": [
    "train(model, optimizer, norm_x_train, y_train)"
   ]
  },
  {
   "cell_type": "markdown",
   "id": "0084ed59",
   "metadata": {},
   "source": [
    "# Regularization"
   ]
  },
  {
   "cell_type": "code",
   "execution_count": 52,
   "id": "53643fa9",
   "metadata": {},
   "outputs": [],
   "source": [
    "def train_with_regularization(model, optimizer, x_train, y_train):\n",
    "    nb_epochs = 20\n",
    "    for epoch in range(nb_epochs):\n",
    "        prediction = model(x_train)\n",
    "        cost = F.mse_loss(prediction, y_train)\n",
    "        \n",
    "        # 12 norm 계산\n",
    "        reg_12 = 0\n",
    "        for param in model.parameters():\n",
    "            reg_12 += torch.norm(param)\n",
    "        cost += reg_12\n",
    "        \n",
    "        optimizer.zero_grad()\n",
    "        cost.backward()\n",
    "        optimizer.step()\n",
    "        print('Epoch {:4d}/{} Cost: {:.6f}'.format(\n",
    "            epoch+1, nb_epochs, cost.item()\n",
    "        ))"
   ]
  },
  {
   "cell_type": "code",
   "execution_count": 53,
   "id": "c6b600b3",
   "metadata": {},
   "outputs": [
    {
     "name": "stdout",
     "output_type": "stream",
     "text": [
      "Epoch    1/20 Cost: 29783.343750\n",
      "Epoch    2/20 Cost: 18916.640625\n",
      "Epoch    3/20 Cost: 12131.062500\n",
      "Epoch    4/20 Cost: 7818.143555\n",
      "Epoch    5/20 Cost: 5066.555664\n",
      "Epoch    6/20 Cost: 3308.061279\n",
      "Epoch    7/20 Cost: 2183.356934\n",
      "Epoch    8/20 Cost: 1463.755737\n",
      "Epoch    9/20 Cost: 1003.269226\n",
      "Epoch   10/20 Cost: 708.571899\n",
      "Epoch   11/20 Cost: 519.966919\n",
      "Epoch   12/20 Cost: 399.257690\n",
      "Epoch   13/20 Cost: 322.001099\n",
      "Epoch   14/20 Cost: 272.553955\n",
      "Epoch   15/20 Cost: 240.904663\n",
      "Epoch   16/20 Cost: 220.646393\n",
      "Epoch   17/20 Cost: 207.678421\n",
      "Epoch   18/20 Cost: 199.376312\n",
      "Epoch   19/20 Cost: 194.060593\n",
      "Epoch   20/20 Cost: 190.656235\n"
     ]
    }
   ],
   "source": [
    "model = MultivariateLinearRegressionModel()\n",
    "optimizer = optim.SGD(model.parameters(), lr=1e-1)\n",
    "train_with_regularization(model, optimizer, norm_x_train, y_train)"
   ]
  }
 ],
 "metadata": {
  "kernelspec": {
   "display_name": "Python 3 (ipykernel)",
   "language": "python",
   "name": "python3"
  },
  "language_info": {
   "codemirror_mode": {
    "name": "ipython",
    "version": 3
   },
   "file_extension": ".py",
   "mimetype": "text/x-python",
   "name": "python",
   "nbconvert_exporter": "python",
   "pygments_lexer": "ipython3",
   "version": "3.9.12"
  }
 },
 "nbformat": 4,
 "nbformat_minor": 5
}
