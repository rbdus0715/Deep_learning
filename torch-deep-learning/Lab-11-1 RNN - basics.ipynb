{
 "cells": [
  {
   "cell_type": "markdown",
   "id": "e434d886",
   "metadata": {},
   "source": [
    "# RNN in pytorch\n",
    "- rnn = torch.nn.RNN(input_size, hidden_size)\n",
    "- outputs, _status = rnn(input_data)\n",
    "\n",
    "- input_size : (batch size, sequence lenght, input 갯수)\n",
    "- hidden_size : (batch size, sequence lenght, desirable output size)"
   ]
  },
  {
   "cell_type": "markdown",
   "id": "8280b1c8",
   "metadata": {},
   "source": [
    "### Parameters\n",
    "- input_size: Input의 사이즈에 해당 하는 수를 입력하면 됩니다.\n",
    "- hidden_size: 은닉층의 사이즈에 해당 하는 수를 입력하면 됩니다.\n",
    "- num_layers: RNN의 은닉층 레이어 갯수를 나타냅니다. 기본 값은 1입니다.\n",
    "- nonlinearity: 비선형 활성화 함수를 선택합니다. tanh, relu중 하나를 선택 가능하며, 기본 값은 tanh입니다.\n",
    "- bias: 바이어스 값 활성화 여부를 선택합니다. 기본 값은 True 입니다.\n",
    "- batch_first: True일 시, Output 값의 사이즈는 (batch, seq, feature) 가 됩니다. 기본 값은 False 입니다.\n",
    "- dropout: 드롭아웃 비율을 설정 합니다. 기본 값은 0입니다.\n",
    "- bidirectional: True일 시, 양방향 RNN이 됩니다. 기본 값은 False 입니다."
   ]
  },
  {
   "cell_type": "code",
   "execution_count": 13,
   "id": "24aaeeb0",
   "metadata": {},
   "outputs": [],
   "source": [
    "import torch\n",
    "import numpy as np"
   ]
  },
  {
   "cell_type": "code",
   "execution_count": 16,
   "id": "88542500",
   "metadata": {},
   "outputs": [
    {
     "data": {
      "text/plain": [
       "<torch._C.Generator at 0x7fdfd824bdd0>"
      ]
     },
     "execution_count": 16,
     "metadata": {},
     "output_type": "execute_result"
    }
   ],
   "source": [
    "torch.manual_seed(0)"
   ]
  },
  {
   "cell_type": "code",
   "execution_count": 17,
   "id": "c9e547ef",
   "metadata": {},
   "outputs": [],
   "source": [
    "# 4차원  짜리 벡터가 들어가서 2차원짜리 벡터가 나옴\n",
    "input_size = 4\n",
    "hidden_size = 2 # desirable output size \n",
    "# hidden_size = output_size\n",
    "\n",
    "# input 4\n",
    "h = [1, 0, 0, 0]\n",
    "e = [0, 1, 0, 0]\n",
    "l = [0, 0, 1, 0]\n",
    "o = [0, 0, 0, 1]\n",
    "input_data_np = np.array([[h, e, l, l, o], \n",
    "                          [e, o, l, l, l], \n",
    "                          [l, l, e, e, l]], dtype=np.float32)\n",
    "\n",
    "input_data = torch.Tensor(input_data_np)"
   ]
  },
  {
   "cell_type": "code",
   "execution_count": 19,
   "id": "1b5d274c",
   "metadata": {
    "scrolled": true
   },
   "outputs": [
    {
     "name": "stdout",
     "output_type": "stream",
     "text": [
      "tensor([[[-0.4147,  0.5972],\n",
      "         [-0.2881,  0.7695],\n",
      "         [-0.8337,  0.2788],\n",
      "         [-0.8337,  0.2788],\n",
      "         [-0.7734,  0.7448]],\n",
      "\n",
      "        [[-0.2018,  0.3469],\n",
      "         [-0.7344,  0.2653],\n",
      "         [-0.7948, -0.4056],\n",
      "         [-0.7948, -0.4056],\n",
      "         [-0.7842, -0.6027]],\n",
      "\n",
      "        [[-0.8182, -0.0702],\n",
      "         [-0.7993, -0.3433],\n",
      "         [-0.2320,  0.6506],\n",
      "         [-0.2320,  0.6506],\n",
      "         [-0.8197,  0.1777]]], grad_fn=<StackBackward>)\n",
      "torch.Size([3, 5, 2])\n"
     ]
    }
   ],
   "source": [
    "rnn = torch.nn.RNN(input_size, hidden_size)\n",
    "outputs, _status = rnn(input_data)\n",
    "print(outputs)\n",
    "print(outputs.size())"
   ]
  },
  {
   "cell_type": "code",
   "execution_count": null,
   "id": "4d01450c",
   "metadata": {},
   "outputs": [],
   "source": [
    "# 3, 5, 2\n",
    "# output 벡터 크기 2\n",
    "# sequence length 5\n",
    "# batch size 3"
   ]
  }
 ],
 "metadata": {
  "kernelspec": {
   "display_name": "Python 3 (ipykernel)",
   "language": "python",
   "name": "python3"
  },
  "language_info": {
   "codemirror_mode": {
    "name": "ipython",
    "version": 3
   },
   "file_extension": ".py",
   "mimetype": "text/x-python",
   "name": "python",
   "nbconvert_exporter": "python",
   "pygments_lexer": "ipython3",
   "version": "3.9.12"
  }
 },
 "nbformat": 4,
 "nbformat_minor": 5
}
